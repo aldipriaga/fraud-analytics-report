{
 "cells": [
  {
   "cell_type": "code",
   "execution_count": 1,
   "id": "72b33540",
   "metadata": {},
   "outputs": [],
   "source": [
    "import pandas as pd\n",
    "import numpy as np\n",
    "import matplotlib.pyplot as plt\n",
    "import seaborn as sns\n"
   ]
  },
  {
   "cell_type": "markdown",
   "id": "43c82d37",
   "metadata": {},
   "source": [
    "# Prepare data"
   ]
  },
  {
   "cell_type": "code",
   "execution_count": 2,
   "id": "4ed0a92a",
   "metadata": {},
   "outputs": [
    {
     "data": {
      "application/vnd.microsoft.datawrangler.viewer.v0+json": {
       "columns": [
        {
         "name": "index",
         "rawType": "int64",
         "type": "integer"
        },
        {
         "name": "Unnamed: 0",
         "rawType": "int64",
         "type": "integer"
        },
        {
         "name": "trans_date_trans_time",
         "rawType": "object",
         "type": "string"
        },
        {
         "name": "cc_num",
         "rawType": "int64",
         "type": "integer"
        },
        {
         "name": "merchant",
         "rawType": "object",
         "type": "string"
        },
        {
         "name": "category",
         "rawType": "object",
         "type": "string"
        },
        {
         "name": "amt",
         "rawType": "float64",
         "type": "float"
        },
        {
         "name": "first",
         "rawType": "object",
         "type": "string"
        },
        {
         "name": "last",
         "rawType": "object",
         "type": "string"
        },
        {
         "name": "gender",
         "rawType": "object",
         "type": "string"
        },
        {
         "name": "street",
         "rawType": "object",
         "type": "string"
        },
        {
         "name": "city",
         "rawType": "object",
         "type": "string"
        },
        {
         "name": "state",
         "rawType": "object",
         "type": "string"
        },
        {
         "name": "zip",
         "rawType": "int64",
         "type": "integer"
        },
        {
         "name": "lat",
         "rawType": "float64",
         "type": "float"
        },
        {
         "name": "long",
         "rawType": "float64",
         "type": "float"
        },
        {
         "name": "city_pop",
         "rawType": "int64",
         "type": "integer"
        },
        {
         "name": "job",
         "rawType": "object",
         "type": "string"
        },
        {
         "name": "dob",
         "rawType": "object",
         "type": "string"
        },
        {
         "name": "trans_num",
         "rawType": "object",
         "type": "string"
        },
        {
         "name": "unix_time",
         "rawType": "int64",
         "type": "integer"
        },
        {
         "name": "merch_lat",
         "rawType": "float64",
         "type": "float"
        },
        {
         "name": "merch_long",
         "rawType": "float64",
         "type": "float"
        },
        {
         "name": "is_fraud",
         "rawType": "int64",
         "type": "integer"
        }
       ],
       "ref": "21310b8a-7a3e-4c85-8222-8bf11739c20f",
       "rows": [
        [
         "0",
         "0",
         "2019-01-01 00:00:18",
         "2703186189652095",
         "fraud_Rippin, Kub and Mann",
         "misc_net",
         "4.97",
         "Jennifer",
         "Banks",
         "F",
         "561 Perry Cove",
         "Moravian Falls",
         "NC",
         "28654",
         "36.0788",
         "-81.1781",
         "3495",
         "Psychologist, counselling",
         "1988-03-09",
         "0b242abb623afc578575680df30655b9",
         "1325376018",
         "36.011293",
         "-82.048315",
         "0"
        ],
        [
         "1",
         "1",
         "2019-01-01 00:00:44",
         "630423337322",
         "fraud_Heller, Gutmann and Zieme",
         "grocery_pos",
         "107.23",
         "Stephanie",
         "Gill",
         "F",
         "43039 Riley Greens Suite 393",
         "Orient",
         "WA",
         "99160",
         "48.8878",
         "-118.2105",
         "149",
         "Special educational needs teacher",
         "1978-06-21",
         "1f76529f8574734946361c461b024d99",
         "1325376044",
         "49.159047",
         "-118.186462",
         "0"
        ],
        [
         "2",
         "2",
         "2019-01-01 00:00:51",
         "38859492057661",
         "fraud_Lind-Buckridge",
         "entertainment",
         "220.11",
         "Edward",
         "Sanchez",
         "M",
         "594 White Dale Suite 530",
         "Malad City",
         "ID",
         "83252",
         "42.1808",
         "-112.262",
         "4154",
         "Nature conservation officer",
         "1962-01-19",
         "a1a22d70485983eac12b5b88dad1cf95",
         "1325376051",
         "43.150704",
         "-112.154481",
         "0"
        ],
        [
         "3",
         "3",
         "2019-01-01 00:01:16",
         "3534093764340240",
         "fraud_Kutch, Hermiston and Farrell",
         "gas_transport",
         "45.0",
         "Jeremy",
         "White",
         "M",
         "9443 Cynthia Court Apt. 038",
         "Boulder",
         "MT",
         "59632",
         "46.2306",
         "-112.1138",
         "1939",
         "Patent attorney",
         "1967-01-12",
         "6b849c168bdad6f867558c3793159a81",
         "1325376076",
         "47.034331",
         "-112.561071",
         "0"
        ],
        [
         "4",
         "4",
         "2019-01-01 00:03:06",
         "375534208663984",
         "fraud_Keeling-Crist",
         "misc_pos",
         "41.96",
         "Tyler",
         "Garcia",
         "M",
         "408 Bradley Rest",
         "Doe Hill",
         "VA",
         "24433",
         "38.4207",
         "-79.4629",
         "99",
         "Dance movement psychotherapist",
         "1986-03-28",
         "a41d7549acf90789359a9aa5346dcb46",
         "1325376186",
         "38.674999",
         "-78.632459",
         "0"
        ],
        [
         "5",
         "5",
         "2019-01-01 00:04:08",
         "4767265376804500",
         "fraud_Stroman, Hudson and Erdman",
         "gas_transport",
         "94.63",
         "Jennifer",
         "Conner",
         "F",
         "4655 David Island",
         "Dublin",
         "PA",
         "18917",
         "40.375",
         "-75.2045",
         "2158",
         "Transport planner",
         "1961-06-19",
         "189a841a0a8ba03058526bcfe566aab5",
         "1325376248",
         "40.653382",
         "-76.15266700000001",
         "0"
        ],
        [
         "6",
         "6",
         "2019-01-01 00:04:42",
         "30074693890476",
         "fraud_Rowe-Vandervort",
         "grocery_net",
         "44.54",
         "Kelsey",
         "Richards",
         "F",
         "889 Sarah Station Suite 624",
         "Holcomb",
         "KS",
         "67851",
         "37.9931",
         "-100.9893",
         "2691",
         "Arboriculturist",
         "1993-08-16",
         "83ec1cc84142af6e2acf10c44949e720",
         "1325376282",
         "37.162705",
         "-100.15337",
         "0"
        ],
        [
         "7",
         "7",
         "2019-01-01 00:05:08",
         "6011360759745864",
         "fraud_Corwin-Collins",
         "gas_transport",
         "71.65",
         "Steven",
         "Williams",
         "M",
         "231 Flores Pass Suite 720",
         "Edinburg",
         "VA",
         "22824",
         "38.8432",
         "-78.6003",
         "6018",
         "Designer, multimedia",
         "1947-08-21",
         "6d294ed2cc447d2c71c7171a3d54967c",
         "1325376308",
         "38.948089",
         "-78.540296",
         "0"
        ],
        [
         "8",
         "8",
         "2019-01-01 00:05:18",
         "4922710831011201",
         "fraud_Herzog Ltd",
         "misc_pos",
         "4.27",
         "Heather",
         "Chase",
         "F",
         "6888 Hicks Stream Suite 954",
         "Manor",
         "PA",
         "15665",
         "40.3359",
         "-79.6607",
         "1472",
         "Public affairs consultant",
         "1941-03-07",
         "fc28024ce480f8ef21a32d64c93a29f5",
         "1325376318",
         "40.351813",
         "-79.958146",
         "0"
        ],
        [
         "9",
         "9",
         "2019-01-01 00:06:01",
         "2720830304681674",
         "fraud_Schoen, Kuphal and Nitzsche",
         "grocery_pos",
         "198.39",
         "Melissa",
         "Aguilar",
         "F",
         "21326 Taylor Squares Suite 708",
         "Clarksville",
         "TN",
         "37040",
         "36.522",
         "-87.34899999999999",
         "151785",
         "Pathologist",
         "1974-03-28",
         "3b9014ea8fb80bd65de0b1463b00b00e",
         "1325376361",
         "37.179198",
         "-87.485381",
         "0"
        ],
        [
         "10",
         "10",
         "2019-01-01 00:06:23",
         "4642894980163",
         "fraud_Rutherford-Mertz",
         "grocery_pos",
         "24.74",
         "Eddie",
         "Mendez",
         "M",
         "1831 Faith View Suite 653",
         "Clarinda",
         "IA",
         "51632",
         "40.7491",
         "-95.038",
         "7297",
         "IT trainer",
         "1990-07-13",
         "d71c95ab6b7356dd74389d41df429c87",
         "1325376383",
         "40.275891",
         "-96.011548",
         "0"
        ],
        [
         "11",
         "11",
         "2019-01-01 00:06:53",
         "377234009633447",
         "fraud_Kerluke-Abshire",
         "shopping_net",
         "7.77",
         "Theresa",
         "Blackwell",
         "F",
         "43576 Kristina Islands",
         "Shenandoah Junction",
         "WV",
         "25442",
         "39.3716",
         "-77.8229",
         "1925",
         "Systems developer",
         "1966-02-14",
         "3c74776e558f1499a7824b556e474b1d",
         "1325376413",
         "40.103866",
         "-78.624459",
         "0"
        ],
        [
         "12",
         "12",
         "2019-01-01 00:06:56",
         "180042946491150",
         "fraud_Lockman Ltd",
         "grocery_pos",
         "71.22",
         "Charles",
         "Robles",
         "M",
         "3337 Lisa Divide",
         "Saint Petersburg",
         "FL",
         "33710",
         "27.7898",
         "-82.7243",
         "341043",
         "Engineer, land",
         "1989-02-28",
         "c1d9a7ddb1e34639fe82758de97f4abf",
         "1325376416",
         "27.630593",
         "-82.308891",
         "0"
        ],
        [
         "13",
         "13",
         "2019-01-01 00:07:27",
         "5559857416065248",
         "fraud_Kiehn Inc",
         "grocery_pos",
         "96.29",
         "Jack",
         "Hill",
         "M",
         "5916 Susan Bridge Apt. 939",
         "Grenada",
         "CA",
         "96038",
         "41.6125",
         "-122.5258",
         "589",
         "Systems analyst",
         "1945-12-21",
         "413636e759663f264aae1819a4d4f231",
         "1325376447",
         "41.65752",
         "-122.230347",
         "0"
        ],
        [
         "14",
         "14",
         "2019-01-01 00:09:03",
         "3514865930894695",
         "fraud_Beier-Hyatt",
         "shopping_pos",
         "7.77",
         "Christopher",
         "Castaneda",
         "M",
         "1632 Cohen Drive Suite 639",
         "High Rolls Mountain Park",
         "NM",
         "88325",
         "32.9396",
         "-105.8189",
         "899",
         "Naval architect",
         "1967-08-30",
         "8a6293af5ed278dea14448ded2685fea",
         "1325376543",
         "32.863258",
         "-106.520205",
         "0"
        ],
        [
         "15",
         "15",
         "2019-01-01 00:09:20",
         "6011999606625827",
         "fraud_Schmidt and Sons",
         "shopping_net",
         "3.26",
         "Ronald",
         "Carson",
         "M",
         "870 Rocha Drive",
         "Harrington Park",
         "NJ",
         "7640",
         "40.9918",
         "-73.98",
         "4664",
         "Radiographer, diagnostic",
         "1965-06-30",
         "baae0b096835c975857eea7e28dde3dc",
         "1325376560",
         "41.831174",
         "-74.335559",
         "0"
        ],
        [
         "16",
         "16",
         "2019-01-01 00:10:49",
         "6011860238257910",
         "fraud_Lebsack and Sons",
         "misc_net",
         "327.0",
         "Lisa",
         "Mendez",
         "F",
         "44259 Beth Station Suite 215",
         "Lahoma",
         "OK",
         "73754",
         "36.385",
         "-98.0727",
         "1078",
         "Programme researcher, broadcasting/film/video",
         "1952-07-06",
         "991c04803b4d4eeab30d6245a872e3d3",
         "1325376649",
         "36.384092",
         "-99.048472",
         "0"
        ],
        [
         "17",
         "17",
         "2019-01-01 00:10:58",
         "3565423334076143",
         "fraud_Mayert Group",
         "shopping_pos",
         "341.67",
         "Nathan",
         "Thomas",
         "M",
         "4923 Campbell Pines Suite 717",
         "Carlisle",
         "IN",
         "47838",
         "38.9763",
         "-87.3667",
         "4081",
         "Energy engineer",
         "1938-03-15",
         "f12cf52be2175703db789a4644c32f25",
         "1325376658",
         "38.674491",
         "-88.305767",
         "0"
        ],
        [
         "18",
         "18",
         "2019-01-01 00:11:14",
         "2348245054386329",
         "fraud_Konopelski, Schneider and Hartmann",
         "food_dining",
         "63.07",
         "Justin",
         "Gay",
         "M",
         "268 Hayes Rue Suite 811",
         "Harborcreek",
         "PA",
         "16421",
         "42.1767",
         "-79.9416",
         "2518",
         "Event organiser",
         "1946-02-02",
         "8500f3d459047eac8443307b1e8296e5",
         "1325376674",
         "41.430274",
         "-79.492553",
         "0"
        ],
        [
         "19",
         "19",
         "2019-01-01 00:12:34",
         "4956828990005111019",
         "fraud_Schultz, Simonis and Little",
         "grocery_pos",
         "44.71",
         "Kenneth",
         "Robinson",
         "M",
         "269 Sanchez Rapids",
         "Elizabeth",
         "NJ",
         "7208",
         "40.6747",
         "-74.2239",
         "124967",
         "Operational researcher",
         "1980-12-21",
         "09eff9c806365e2a6be12c1bbab3d70e",
         "1325376754",
         "40.079588",
         "-74.84808699999999",
         "0"
        ],
        [
         "20",
         "20",
         "2019-01-01 00:13:08",
         "4469777115158234880",
         "fraud_Bauch-Raynor",
         "grocery_pos",
         "57.34",
         "Gregory",
         "Graham",
         "M",
         "4005 Dana Glens",
         "Methuen",
         "MA",
         "1844",
         "42.728",
         "-71.181",
         "47249",
         "Market researcher",
         "1980-11-22",
         "139a1bee15be607d79fe173bfcb2502a",
         "1325376788",
         "42.26876",
         "-71.217297",
         "0"
        ],
        [
         "21",
         "21",
         "2019-01-01 00:14:37",
         "2305336922781618",
         "fraud_Harris Inc",
         "gas_transport",
         "50.79",
         "Jeffrey",
         "Rice",
         "M",
         "21447 Powell Circle",
         "Moulton",
         "IA",
         "52572",
         "40.6866",
         "-92.6833",
         "1132",
         "Probation officer",
         "1961-02-14",
         "b9c4615bec3561c8e83b0c1d6c7028e2",
         "1325376877",
         "40.18893",
         "-91.955115",
         "0"
        ],
        [
         "22",
         "22",
         "2019-01-01 00:17:16",
         "180048185037117",
         "fraud_Kling-Grant",
         "grocery_net",
         "46.28",
         "Mary",
         "Wall",
         "F",
         "2481 Mills Lock",
         "Plainfield",
         "NJ",
         "7060",
         "40.6152",
         "-74.415",
         "71485",
         "Leisure centre manager",
         "1974-07-19",
         "19e23c6a300c774354417befe4f31f8c",
         "1325377036",
         "40.021888",
         "-74.228188",
         "0"
        ],
        [
         "23",
         "23",
         "2019-01-01 00:17:40",
         "630441765090",
         "fraud_Pacocha-Bauch",
         "shopping_pos",
         "9.55",
         "Susan",
         "Washington",
         "F",
         "759 Erin Mount Suite 956",
         "May",
         "TX",
         "76857",
         "31.9571",
         "-98.9656",
         "1791",
         "Corporate investment banker",
         "1965-07-26",
         "c4b4daebab8be54cadde4b941244ca53",
         "1325377060",
         "31.62635",
         "-98.610225",
         "0"
        ],
        [
         "24",
         "24",
         "2019-01-01 00:18:06",
         "4428780983793657331",
         "fraud_Lesch Ltd",
         "shopping_pos",
         "22.95",
         "Richard",
         "Waters",
         "M",
         "7683 Natasha Way Apt. 945",
         "Waukesha",
         "WI",
         "53186",
         "42.9993",
         "-88.2196",
         "95015",
         "Therapist, occupational",
         "1946-01-02",
         "d2432bfeabf142dc1bae1d426e32aecc",
         "1325377086",
         "43.375041",
         "-89.055065",
         "0"
        ],
        [
         "25",
         "25",
         "2019-01-01 00:18:07",
         "343464013864032",
         "fraud_Kunde-Sanford",
         "misc_net",
         "2.55",
         "Jodi",
         "Foster",
         "F",
         "551 Zachary Freeway",
         "Bailey",
         "NC",
         "27807",
         "35.8072",
         "-78.0892",
         "6629",
         "Call centre manager",
         "1962-08-13",
         "abe0676c18f34fa305b113fa762e29b5",
         "1325377087",
         "36.74987",
         "-78.67787",
         "0"
        ],
        [
         "26",
         "26",
         "2019-01-01 00:20:15",
         "374930071163758",
         "fraud_Deckow-O'Conner",
         "grocery_pos",
         "64.09",
         "Daniel",
         "Escobar",
         "M",
         "61390 Hayes Port",
         "Romulus",
         "MI",
         "48174",
         "42.2203",
         "-83.3583",
         "31515",
         "Police officer",
         "1971-11-05",
         "6f363661ba6b55889e488dd178f2a0af",
         "1325377215",
         "42.360426",
         "-83.552316",
         "0"
        ],
        [
         "27",
         "27",
         "2019-01-01 00:21:32",
         "4334230547694630",
         "fraud_Bruen-Yost",
         "misc_pos",
         "6.85",
         "Scott",
         "Martin",
         "M",
         "7483 Navarro Flats",
         "Freedom",
         "WY",
         "83120",
         "43.0172",
         "-111.0292",
         "471",
         "Education officer, museum",
         "1967-08-02",
         "f3c43d336e92a44fc2fb67058d5949e3",
         "1325377292",
         "43.753735",
         "-111.454923",
         "0"
        ],
        [
         "28",
         "28",
         "2019-01-01 00:22:06",
         "4225990116481262579",
         "fraud_Kunze Inc",
         "grocery_pos",
         "90.22",
         "Brian",
         "Simpson",
         "M",
         "2711 Duran Pines",
         "Honokaa",
         "HI",
         "96727",
         "20.0827",
         "-155.488",
         "4878",
         "Physiotherapist",
         "1966-12-03",
         "95826e3caa9e0b905294c6dae985aec1",
         "1325377326",
         "19.560013",
         "-156.045889",
         "0"
        ],
        [
         "29",
         "29",
         "2019-01-01 00:22:18",
         "4260059589824237",
         "fraud_Nitzsche, Kessler and Wolff",
         "shopping_pos",
         "4.02",
         "Aaron",
         "Rogers",
         "M",
         "969 Huerta Path Apt. 270",
         "Valentine",
         "NE",
         "69201",
         "42.8062",
         "-100.6215",
         "4005",
         "Network engineer",
         "1945-03-15",
         "20490f3f0966ce74b4aaba8dc2c4ed52",
         "1325377338",
         "42.47559",
         "-101.265846",
         "0"
        ],
        [
         "30",
         "30",
         "2019-01-01 00:22:36",
         "180094608895855",
         "fraud_Kihn, Abernathy and Douglas",
         "shopping_net",
         "3.66",
         "Tammie",
         "Harper",
         "F",
         "57887 Gutierrez Harbor",
         "Westfir",
         "OR",
         "97492",
         "43.7575",
         "-122.481",
         "597",
         "Forensic psychologist",
         "1961-05-19",
         "870c92b288a974a2faf1f24b05c27e33",
         "1325377356",
         "44.278191",
         "-121.815161",
         "0"
        ],
        [
         "31",
         "31",
         "2019-01-01 00:22:39",
         "4599735407877245080",
         "fraud_Heller, Gutmann and Zieme",
         "grocery_pos",
         "82.8",
         "Mary",
         "Myers",
         "F",
         "39787 Pamela Fall Suite 639",
         "Tiptonville",
         "TN",
         "38079",
         "36.3846",
         "-89.4649",
         "5577",
         "Geochemist",
         "1964-12-30",
         "cb598ec00d349dc95e7b3c18de5ae800",
         "1325377359",
         "36.294205",
         "-89.81128199999999",
         "0"
        ],
        [
         "32",
         "32",
         "2019-01-01 00:22:44",
         "630412733309",
         "fraud_Torphy-Goyette",
         "shopping_pos",
         "66.21",
         "Heather",
         "Stanton",
         "F",
         "445 Jerry Lights Apt. 081",
         "Republic",
         "MI",
         "49879",
         "46.368",
         "-87.9938",
         "1038",
         "Armed forces training and education officer",
         "1964-04-22",
         "20f048d3907dbb9978e23bee7b7578ce",
         "1325377364",
         "46.412038",
         "-88.516663",
         "0"
        ],
        [
         "33",
         "33",
         "2019-01-01 00:23:41",
         "2712209726293386",
         "fraud_Balistreri-Nader",
         "misc_pos",
         "25.58",
         "Jenna",
         "Brooks",
         "F",
         "50872 Alex Plain Suite 088",
         "Baton Rouge",
         "LA",
         "70808",
         "30.4066",
         "-91.1468",
         "378909",
         "Designer, furniture",
         "1977-02-22",
         "1654da2abfb9e79a5f99167fc9779558",
         "1325377421",
         "29.737426",
         "-90.853194",
         "0"
        ],
        [
         "34",
         "34",
         "2019-01-01 00:23:58",
         "374125201044065",
         "fraud_Bahringer, Schoen and Corkery",
         "shopping_pos",
         "9.03",
         "Christopher",
         "Gilbert",
         "M",
         "20937 Reed Lakes Apt. 271",
         "Washington",
         "DC",
         "20012",
         "38.9757",
         "-77.0282",
         "601723",
         "Optician, dispensing",
         "1970-07-20",
         "c733711c521c41c578f4a964d8350df0",
         "1325377438",
         "38.880898",
         "-76.44111600000001",
         "0"
        ],
        [
         "35",
         "35",
         "2019-01-01 00:25:46",
         "349612764943496",
         "fraud_Hudson-Ratke",
         "grocery_pos",
         "99.0",
         "Xavier",
         "Beltran",
         "M",
         "61107 Edwards Dam Apt. 463",
         "Big Creek",
         "KY",
         "40914",
         "37.1046",
         "-83.5706",
         "467",
         "Psychologist, forensic",
         "1984-06-04",
         "7e2f9596cb3a3595ece15611ee338e5c",
         "1325377546",
         "36.823545",
         "-83.90104000000001",
         "0"
        ],
        [
         "36",
         "36",
         "2019-01-01 00:26:22",
         "3598215285024754",
         "fraud_Heidenreich PLC",
         "grocery_pos",
         "207.36",
         "Ashley",
         "Lopez",
         "F",
         "9333 Valentine Point",
         "Bellmore",
         "NY",
         "11710",
         "40.6729",
         "-73.5365",
         "34496",
         "Librarian, public",
         "1970-10-21",
         "f246ac27c09429ff1e385d4683c79c4d",
         "1325377582",
         "40.202538",
         "-73.859212",
         "0"
        ],
        [
         "37",
         "37",
         "2019-01-01 00:27:45",
         "213141712584544",
         "fraud_Halvorson Group",
         "misc_pos",
         "181.35",
         "Margaret",
         "Curtis",
         "F",
         "742 Oneill Shore",
         "Florence",
         "MS",
         "39073",
         "32.153",
         "-90.1217",
         "19685",
         "Fine artist",
         "1984-12-24",
         "7bb25a43205191eb7344282b88fc54d3",
         "1325377665",
         "31.939812",
         "-90.726209",
         "0"
        ],
        [
         "38",
         "38",
         "2019-01-01 00:27:56",
         "30561214688470",
         "fraud_Harber Inc",
         "gas_transport",
         "82.22",
         "Gina",
         "Morrison",
         "F",
         "41851 Victor Drives Suite 219",
         "Allentown",
         "PA",
         "18103",
         "40.5891",
         "-75.4645",
         "166081",
         "Scientist, research (maths)",
         "1998-10-01",
         "61bcb858dd5c8e2d0d46d02b4fa0bf8e",
         "1325377676",
         "40.586238",
         "-75.802249",
         "0"
        ],
        [
         "39",
         "39",
         "2019-01-01 00:29:11",
         "4789911625179723",
         "fraud_Mosciski, Gislason and Mertz",
         "grocery_pos",
         "221.81",
         "Dorothy",
         "Zuniga",
         "F",
         "77321 Ford Via",
         "Moriches",
         "NY",
         "11955",
         "40.8095",
         "-72.8229",
         "3285",
         "Research officer, trade union",
         "1988-04-27",
         "a8394c3e555166ce2f90eee628bd9ade",
         "1325377751",
         "40.011959",
         "-72.594808",
         "0"
        ],
        [
         "40",
         "40",
         "2019-01-01 00:30:49",
         "676372984911",
         "fraud_Christiansen, Goyette and Schamberger",
         "gas_transport",
         "53.6",
         "Vicki",
         "Mendoza",
         "F",
         "3645 Atkins Island Apt. 238",
         "Esbon",
         "KS",
         "66941",
         "39.7562",
         "-98.4462",
         "242",
         "Tourism officer",
         "1987-07-18",
         "f1566e9623814dd277dfa2a9bf83ea36",
         "1325377849",
         "40.332519",
         "-99.062962",
         "0"
        ],
        [
         "41",
         "41",
         "2019-01-01 00:31:01",
         "30011465039817",
         "fraud_Howe Ltd",
         "misc_pos",
         "54.02",
         "Lisa",
         "Garcia",
         "F",
         "213 Gill Expressway",
         "Chatham",
         "NY",
         "12037",
         "42.3496",
         "-73.5873",
         "4015",
         "Human resources officer",
         "1971-10-14",
         "8d11abad6bc3501f9994f061e3a5b730",
         "1325377861",
         "42.041783",
         "-73.076424",
         "0"
        ],
        [
         "42",
         "42",
         "2019-01-01 00:31:51",
         "4642255475285942",
         "fraud_Ledner-Pfannerstill",
         "gas_transport",
         "102.13",
         "Sabrina",
         "Johnson",
         "F",
         "320 Nicholson Orchard",
         "Thompson",
         "UT",
         "84540",
         "38.9999",
         "-109.615",
         "46",
         "Surveyor, minerals",
         "1987-04-23",
         "47238da5b40d126c8abea40a857c7809",
         "1325377911",
         "39.807313",
         "-109.348294",
         "0"
        ],
        [
         "43",
         "43",
         "2019-01-01 00:32:15",
         "30074693890476",
         "fraud_Lockman Ltd",
         "grocery_pos",
         "212.75",
         "Kelsey",
         "Richards",
         "F",
         "889 Sarah Station Suite 624",
         "Holcomb",
         "KS",
         "67851",
         "37.9931",
         "-100.9893",
         "2691",
         "Arboriculturist",
         "1993-08-16",
         "d9dcde500bed2cad48ee41e44c362596",
         "1325377935",
         "38.862183",
         "-101.234087",
         "0"
        ],
        [
         "44",
         "44",
         "2019-01-01 00:32:15",
         "180067784565096",
         "fraud_Koepp-Witting",
         "grocery_pos",
         "130.4",
         "Mary",
         "Juarez",
         "F",
         "35440 Ryan Islands",
         "North Prairie",
         "WI",
         "53153",
         "42.9385",
         "-88.395",
         "2328",
         "Applications developer",
         "1942-01-06",
         "14a6e29ac65424550ea7e7c9f551dbb8",
         "1325377935",
         "42.236269",
         "-88.397336",
         "0"
        ],
        [
         "45",
         "45",
         "2019-01-01 00:32:47",
         "213126662687660",
         "fraud_Doyle Ltd",
         "grocery_pos",
         "91.16",
         "Christopher",
         "Luna",
         "M",
         "242 Brian Mountain",
         "Laredo",
         "TX",
         "78040",
         "27.5155",
         "-99.4986",
         "248858",
         "Video editor",
         "1971-01-28",
         "685bcca9eb5ce554134d7242d564ecc9",
         "1325377967",
         "27.588953000000004",
         "-99.816911",
         "0"
        ],
        [
         "46",
         "46",
         "2019-01-01 00:33:51",
         "2266735643685262",
         "fraud_Schaefer, Maggio and Daugherty",
         "gas_transport",
         "55.78",
         "Carlos",
         "Chung",
         "M",
         "8957 Russell Key",
         "Grant",
         "AL",
         "35747",
         "34.4959",
         "-86.259",
         "5901",
         "Curator",
         "1972-07-25",
         "392529cae1f1f1647093732a8f319c50",
         "1325378031",
         "35.255978000000006",
         "-86.041872",
         "0"
        ],
        [
         "47",
         "47",
         "2019-01-01 00:34:10",
         "3553629419254918",
         "fraud_Stracke-Lemke",
         "grocery_pos",
         "83.07",
         "Sharon",
         "Johnson",
         "F",
         "7202 Jeffrey Mills",
         "Conway",
         "WA",
         "98238",
         "48.34",
         "-122.3456",
         "85",
         "Research officer, political party",
         "1984-09-01",
         "9b7a0619dcc5c572dc134f2827ed5a6b",
         "1325378050",
         "48.682111",
         "-122.719904",
         "0"
        ],
        [
         "48",
         "48",
         "2019-01-01 00:36:12",
         "3511058278399773",
         "fraud_Mosciski, Ziemann and Farrell",
         "shopping_net",
         "4.38",
         "Briana",
         "Santos",
         "F",
         "702 Tabitha Drive",
         "New Goshen",
         "IN",
         "47863",
         "39.5803",
         "-87.4616",
         "205",
         "Engineer, mining",
         "1960-01-06",
         "f1e1ad954f49955c37b45eb71b2d1642",
         "1325378172",
         "39.681736",
         "-88.323862",
         "0"
        ],
        [
         "49",
         "49",
         "2019-01-01 00:36:58",
         "4110266553600176127",
         "fraud_Cartwright-Harris",
         "grocery_pos",
         "130.89",
         "Sandra",
         "Schwartz",
         "F",
         "3789 Mark Walks",
         "Sunflower",
         "MS",
         "38778",
         "33.5567",
         "-90.5451",
         "1686",
         "Education officer, community",
         "1986-11-06",
         "e02fd7d82af517718f83a3f05077d435",
         "1325378218",
         "33.595647",
         "-90.234118",
         "0"
        ]
       ],
       "shape": {
        "columns": 23,
        "rows": 1296675
       }
      },
      "text/html": [
       "<div>\n",
       "<style scoped>\n",
       "    .dataframe tbody tr th:only-of-type {\n",
       "        vertical-align: middle;\n",
       "    }\n",
       "\n",
       "    .dataframe tbody tr th {\n",
       "        vertical-align: top;\n",
       "    }\n",
       "\n",
       "    .dataframe thead th {\n",
       "        text-align: right;\n",
       "    }\n",
       "</style>\n",
       "<table border=\"1\" class=\"dataframe\">\n",
       "  <thead>\n",
       "    <tr style=\"text-align: right;\">\n",
       "      <th></th>\n",
       "      <th>Unnamed: 0</th>\n",
       "      <th>trans_date_trans_time</th>\n",
       "      <th>cc_num</th>\n",
       "      <th>merchant</th>\n",
       "      <th>category</th>\n",
       "      <th>amt</th>\n",
       "      <th>first</th>\n",
       "      <th>last</th>\n",
       "      <th>gender</th>\n",
       "      <th>street</th>\n",
       "      <th>...</th>\n",
       "      <th>lat</th>\n",
       "      <th>long</th>\n",
       "      <th>city_pop</th>\n",
       "      <th>job</th>\n",
       "      <th>dob</th>\n",
       "      <th>trans_num</th>\n",
       "      <th>unix_time</th>\n",
       "      <th>merch_lat</th>\n",
       "      <th>merch_long</th>\n",
       "      <th>is_fraud</th>\n",
       "    </tr>\n",
       "  </thead>\n",
       "  <tbody>\n",
       "    <tr>\n",
       "      <th>0</th>\n",
       "      <td>0</td>\n",
       "      <td>2019-01-01 00:00:18</td>\n",
       "      <td>2703186189652095</td>\n",
       "      <td>fraud_Rippin, Kub and Mann</td>\n",
       "      <td>misc_net</td>\n",
       "      <td>4.97</td>\n",
       "      <td>Jennifer</td>\n",
       "      <td>Banks</td>\n",
       "      <td>F</td>\n",
       "      <td>561 Perry Cove</td>\n",
       "      <td>...</td>\n",
       "      <td>36.0788</td>\n",
       "      <td>-81.1781</td>\n",
       "      <td>3495</td>\n",
       "      <td>Psychologist, counselling</td>\n",
       "      <td>1988-03-09</td>\n",
       "      <td>0b242abb623afc578575680df30655b9</td>\n",
       "      <td>1325376018</td>\n",
       "      <td>36.011293</td>\n",
       "      <td>-82.048315</td>\n",
       "      <td>0</td>\n",
       "    </tr>\n",
       "    <tr>\n",
       "      <th>1</th>\n",
       "      <td>1</td>\n",
       "      <td>2019-01-01 00:00:44</td>\n",
       "      <td>630423337322</td>\n",
       "      <td>fraud_Heller, Gutmann and Zieme</td>\n",
       "      <td>grocery_pos</td>\n",
       "      <td>107.23</td>\n",
       "      <td>Stephanie</td>\n",
       "      <td>Gill</td>\n",
       "      <td>F</td>\n",
       "      <td>43039 Riley Greens Suite 393</td>\n",
       "      <td>...</td>\n",
       "      <td>48.8878</td>\n",
       "      <td>-118.2105</td>\n",
       "      <td>149</td>\n",
       "      <td>Special educational needs teacher</td>\n",
       "      <td>1978-06-21</td>\n",
       "      <td>1f76529f8574734946361c461b024d99</td>\n",
       "      <td>1325376044</td>\n",
       "      <td>49.159047</td>\n",
       "      <td>-118.186462</td>\n",
       "      <td>0</td>\n",
       "    </tr>\n",
       "    <tr>\n",
       "      <th>2</th>\n",
       "      <td>2</td>\n",
       "      <td>2019-01-01 00:00:51</td>\n",
       "      <td>38859492057661</td>\n",
       "      <td>fraud_Lind-Buckridge</td>\n",
       "      <td>entertainment</td>\n",
       "      <td>220.11</td>\n",
       "      <td>Edward</td>\n",
       "      <td>Sanchez</td>\n",
       "      <td>M</td>\n",
       "      <td>594 White Dale Suite 530</td>\n",
       "      <td>...</td>\n",
       "      <td>42.1808</td>\n",
       "      <td>-112.2620</td>\n",
       "      <td>4154</td>\n",
       "      <td>Nature conservation officer</td>\n",
       "      <td>1962-01-19</td>\n",
       "      <td>a1a22d70485983eac12b5b88dad1cf95</td>\n",
       "      <td>1325376051</td>\n",
       "      <td>43.150704</td>\n",
       "      <td>-112.154481</td>\n",
       "      <td>0</td>\n",
       "    </tr>\n",
       "    <tr>\n",
       "      <th>3</th>\n",
       "      <td>3</td>\n",
       "      <td>2019-01-01 00:01:16</td>\n",
       "      <td>3534093764340240</td>\n",
       "      <td>fraud_Kutch, Hermiston and Farrell</td>\n",
       "      <td>gas_transport</td>\n",
       "      <td>45.00</td>\n",
       "      <td>Jeremy</td>\n",
       "      <td>White</td>\n",
       "      <td>M</td>\n",
       "      <td>9443 Cynthia Court Apt. 038</td>\n",
       "      <td>...</td>\n",
       "      <td>46.2306</td>\n",
       "      <td>-112.1138</td>\n",
       "      <td>1939</td>\n",
       "      <td>Patent attorney</td>\n",
       "      <td>1967-01-12</td>\n",
       "      <td>6b849c168bdad6f867558c3793159a81</td>\n",
       "      <td>1325376076</td>\n",
       "      <td>47.034331</td>\n",
       "      <td>-112.561071</td>\n",
       "      <td>0</td>\n",
       "    </tr>\n",
       "    <tr>\n",
       "      <th>4</th>\n",
       "      <td>4</td>\n",
       "      <td>2019-01-01 00:03:06</td>\n",
       "      <td>375534208663984</td>\n",
       "      <td>fraud_Keeling-Crist</td>\n",
       "      <td>misc_pos</td>\n",
       "      <td>41.96</td>\n",
       "      <td>Tyler</td>\n",
       "      <td>Garcia</td>\n",
       "      <td>M</td>\n",
       "      <td>408 Bradley Rest</td>\n",
       "      <td>...</td>\n",
       "      <td>38.4207</td>\n",
       "      <td>-79.4629</td>\n",
       "      <td>99</td>\n",
       "      <td>Dance movement psychotherapist</td>\n",
       "      <td>1986-03-28</td>\n",
       "      <td>a41d7549acf90789359a9aa5346dcb46</td>\n",
       "      <td>1325376186</td>\n",
       "      <td>38.674999</td>\n",
       "      <td>-78.632459</td>\n",
       "      <td>0</td>\n",
       "    </tr>\n",
       "    <tr>\n",
       "      <th>...</th>\n",
       "      <td>...</td>\n",
       "      <td>...</td>\n",
       "      <td>...</td>\n",
       "      <td>...</td>\n",
       "      <td>...</td>\n",
       "      <td>...</td>\n",
       "      <td>...</td>\n",
       "      <td>...</td>\n",
       "      <td>...</td>\n",
       "      <td>...</td>\n",
       "      <td>...</td>\n",
       "      <td>...</td>\n",
       "      <td>...</td>\n",
       "      <td>...</td>\n",
       "      <td>...</td>\n",
       "      <td>...</td>\n",
       "      <td>...</td>\n",
       "      <td>...</td>\n",
       "      <td>...</td>\n",
       "      <td>...</td>\n",
       "      <td>...</td>\n",
       "    </tr>\n",
       "    <tr>\n",
       "      <th>1296670</th>\n",
       "      <td>1296670</td>\n",
       "      <td>2020-06-21 12:12:08</td>\n",
       "      <td>30263540414123</td>\n",
       "      <td>fraud_Reichel Inc</td>\n",
       "      <td>entertainment</td>\n",
       "      <td>15.56</td>\n",
       "      <td>Erik</td>\n",
       "      <td>Patterson</td>\n",
       "      <td>M</td>\n",
       "      <td>162 Jessica Row Apt. 072</td>\n",
       "      <td>...</td>\n",
       "      <td>37.7175</td>\n",
       "      <td>-112.4777</td>\n",
       "      <td>258</td>\n",
       "      <td>Geoscientist</td>\n",
       "      <td>1961-11-24</td>\n",
       "      <td>440b587732da4dc1a6395aba5fb41669</td>\n",
       "      <td>1371816728</td>\n",
       "      <td>36.841266</td>\n",
       "      <td>-111.690765</td>\n",
       "      <td>0</td>\n",
       "    </tr>\n",
       "    <tr>\n",
       "      <th>1296671</th>\n",
       "      <td>1296671</td>\n",
       "      <td>2020-06-21 12:12:19</td>\n",
       "      <td>6011149206456997</td>\n",
       "      <td>fraud_Abernathy and Sons</td>\n",
       "      <td>food_dining</td>\n",
       "      <td>51.70</td>\n",
       "      <td>Jeffrey</td>\n",
       "      <td>White</td>\n",
       "      <td>M</td>\n",
       "      <td>8617 Holmes Terrace Suite 651</td>\n",
       "      <td>...</td>\n",
       "      <td>39.2667</td>\n",
       "      <td>-77.5101</td>\n",
       "      <td>100</td>\n",
       "      <td>Production assistant, television</td>\n",
       "      <td>1979-12-11</td>\n",
       "      <td>278000d2e0d2277d1de2f890067dcc0a</td>\n",
       "      <td>1371816739</td>\n",
       "      <td>38.906881</td>\n",
       "      <td>-78.246528</td>\n",
       "      <td>0</td>\n",
       "    </tr>\n",
       "    <tr>\n",
       "      <th>1296672</th>\n",
       "      <td>1296672</td>\n",
       "      <td>2020-06-21 12:12:32</td>\n",
       "      <td>3514865930894695</td>\n",
       "      <td>fraud_Stiedemann Ltd</td>\n",
       "      <td>food_dining</td>\n",
       "      <td>105.93</td>\n",
       "      <td>Christopher</td>\n",
       "      <td>Castaneda</td>\n",
       "      <td>M</td>\n",
       "      <td>1632 Cohen Drive Suite 639</td>\n",
       "      <td>...</td>\n",
       "      <td>32.9396</td>\n",
       "      <td>-105.8189</td>\n",
       "      <td>899</td>\n",
       "      <td>Naval architect</td>\n",
       "      <td>1967-08-30</td>\n",
       "      <td>483f52fe67fabef353d552c1e662974c</td>\n",
       "      <td>1371816752</td>\n",
       "      <td>33.619513</td>\n",
       "      <td>-105.130529</td>\n",
       "      <td>0</td>\n",
       "    </tr>\n",
       "    <tr>\n",
       "      <th>1296673</th>\n",
       "      <td>1296673</td>\n",
       "      <td>2020-06-21 12:13:36</td>\n",
       "      <td>2720012583106919</td>\n",
       "      <td>fraud_Reinger, Weissnat and Strosin</td>\n",
       "      <td>food_dining</td>\n",
       "      <td>74.90</td>\n",
       "      <td>Joseph</td>\n",
       "      <td>Murray</td>\n",
       "      <td>M</td>\n",
       "      <td>42933 Ryan Underpass</td>\n",
       "      <td>...</td>\n",
       "      <td>43.3526</td>\n",
       "      <td>-102.5411</td>\n",
       "      <td>1126</td>\n",
       "      <td>Volunteer coordinator</td>\n",
       "      <td>1980-08-18</td>\n",
       "      <td>d667cdcbadaaed3da3f4020e83591c83</td>\n",
       "      <td>1371816816</td>\n",
       "      <td>42.788940</td>\n",
       "      <td>-103.241160</td>\n",
       "      <td>0</td>\n",
       "    </tr>\n",
       "    <tr>\n",
       "      <th>1296674</th>\n",
       "      <td>1296674</td>\n",
       "      <td>2020-06-21 12:13:37</td>\n",
       "      <td>4292902571056973207</td>\n",
       "      <td>fraud_Langosh, Wintheiser and Hyatt</td>\n",
       "      <td>food_dining</td>\n",
       "      <td>4.30</td>\n",
       "      <td>Jeffrey</td>\n",
       "      <td>Smith</td>\n",
       "      <td>M</td>\n",
       "      <td>135 Joseph Mountains</td>\n",
       "      <td>...</td>\n",
       "      <td>45.8433</td>\n",
       "      <td>-113.8748</td>\n",
       "      <td>218</td>\n",
       "      <td>Therapist, horticultural</td>\n",
       "      <td>1995-08-16</td>\n",
       "      <td>8f7c8e4ab7f25875d753b422917c98c9</td>\n",
       "      <td>1371816817</td>\n",
       "      <td>46.565983</td>\n",
       "      <td>-114.186110</td>\n",
       "      <td>0</td>\n",
       "    </tr>\n",
       "  </tbody>\n",
       "</table>\n",
       "<p>1296675 rows × 23 columns</p>\n",
       "</div>"
      ],
      "text/plain": [
       "         Unnamed: 0 trans_date_trans_time               cc_num  \\\n",
       "0                 0   2019-01-01 00:00:18     2703186189652095   \n",
       "1                 1   2019-01-01 00:00:44         630423337322   \n",
       "2                 2   2019-01-01 00:00:51       38859492057661   \n",
       "3                 3   2019-01-01 00:01:16     3534093764340240   \n",
       "4                 4   2019-01-01 00:03:06      375534208663984   \n",
       "...             ...                   ...                  ...   \n",
       "1296670     1296670   2020-06-21 12:12:08       30263540414123   \n",
       "1296671     1296671   2020-06-21 12:12:19     6011149206456997   \n",
       "1296672     1296672   2020-06-21 12:12:32     3514865930894695   \n",
       "1296673     1296673   2020-06-21 12:13:36     2720012583106919   \n",
       "1296674     1296674   2020-06-21 12:13:37  4292902571056973207   \n",
       "\n",
       "                                    merchant       category     amt  \\\n",
       "0                 fraud_Rippin, Kub and Mann       misc_net    4.97   \n",
       "1            fraud_Heller, Gutmann and Zieme    grocery_pos  107.23   \n",
       "2                       fraud_Lind-Buckridge  entertainment  220.11   \n",
       "3         fraud_Kutch, Hermiston and Farrell  gas_transport   45.00   \n",
       "4                        fraud_Keeling-Crist       misc_pos   41.96   \n",
       "...                                      ...            ...     ...   \n",
       "1296670                    fraud_Reichel Inc  entertainment   15.56   \n",
       "1296671             fraud_Abernathy and Sons    food_dining   51.70   \n",
       "1296672                 fraud_Stiedemann Ltd    food_dining  105.93   \n",
       "1296673  fraud_Reinger, Weissnat and Strosin    food_dining   74.90   \n",
       "1296674  fraud_Langosh, Wintheiser and Hyatt    food_dining    4.30   \n",
       "\n",
       "               first       last gender                         street  ...  \\\n",
       "0           Jennifer      Banks      F                 561 Perry Cove  ...   \n",
       "1          Stephanie       Gill      F   43039 Riley Greens Suite 393  ...   \n",
       "2             Edward    Sanchez      M       594 White Dale Suite 530  ...   \n",
       "3             Jeremy      White      M    9443 Cynthia Court Apt. 038  ...   \n",
       "4              Tyler     Garcia      M               408 Bradley Rest  ...   \n",
       "...              ...        ...    ...                            ...  ...   \n",
       "1296670         Erik  Patterson      M       162 Jessica Row Apt. 072  ...   \n",
       "1296671      Jeffrey      White      M  8617 Holmes Terrace Suite 651  ...   \n",
       "1296672  Christopher  Castaneda      M     1632 Cohen Drive Suite 639  ...   \n",
       "1296673       Joseph     Murray      M           42933 Ryan Underpass  ...   \n",
       "1296674      Jeffrey      Smith      M           135 Joseph Mountains  ...   \n",
       "\n",
       "             lat      long  city_pop                                job  \\\n",
       "0        36.0788  -81.1781      3495          Psychologist, counselling   \n",
       "1        48.8878 -118.2105       149  Special educational needs teacher   \n",
       "2        42.1808 -112.2620      4154        Nature conservation officer   \n",
       "3        46.2306 -112.1138      1939                    Patent attorney   \n",
       "4        38.4207  -79.4629        99     Dance movement psychotherapist   \n",
       "...          ...       ...       ...                                ...   \n",
       "1296670  37.7175 -112.4777       258                       Geoscientist   \n",
       "1296671  39.2667  -77.5101       100   Production assistant, television   \n",
       "1296672  32.9396 -105.8189       899                    Naval architect   \n",
       "1296673  43.3526 -102.5411      1126              Volunteer coordinator   \n",
       "1296674  45.8433 -113.8748       218           Therapist, horticultural   \n",
       "\n",
       "                dob                         trans_num   unix_time  merch_lat  \\\n",
       "0        1988-03-09  0b242abb623afc578575680df30655b9  1325376018  36.011293   \n",
       "1        1978-06-21  1f76529f8574734946361c461b024d99  1325376044  49.159047   \n",
       "2        1962-01-19  a1a22d70485983eac12b5b88dad1cf95  1325376051  43.150704   \n",
       "3        1967-01-12  6b849c168bdad6f867558c3793159a81  1325376076  47.034331   \n",
       "4        1986-03-28  a41d7549acf90789359a9aa5346dcb46  1325376186  38.674999   \n",
       "...             ...                               ...         ...        ...   \n",
       "1296670  1961-11-24  440b587732da4dc1a6395aba5fb41669  1371816728  36.841266   \n",
       "1296671  1979-12-11  278000d2e0d2277d1de2f890067dcc0a  1371816739  38.906881   \n",
       "1296672  1967-08-30  483f52fe67fabef353d552c1e662974c  1371816752  33.619513   \n",
       "1296673  1980-08-18  d667cdcbadaaed3da3f4020e83591c83  1371816816  42.788940   \n",
       "1296674  1995-08-16  8f7c8e4ab7f25875d753b422917c98c9  1371816817  46.565983   \n",
       "\n",
       "         merch_long  is_fraud  \n",
       "0        -82.048315         0  \n",
       "1       -118.186462         0  \n",
       "2       -112.154481         0  \n",
       "3       -112.561071         0  \n",
       "4        -78.632459         0  \n",
       "...             ...       ...  \n",
       "1296670 -111.690765         0  \n",
       "1296671  -78.246528         0  \n",
       "1296672 -105.130529         0  \n",
       "1296673 -103.241160         0  \n",
       "1296674 -114.186110         0  \n",
       "\n",
       "[1296675 rows x 23 columns]"
      ]
     },
     "execution_count": 2,
     "metadata": {},
     "output_type": "execute_result"
    }
   ],
   "source": [
    "df = pd.read_csv('fraudTrain.csv')\n",
    "df_cleaned = df.copy()\n",
    "\n",
    "df_cleaned"
   ]
  },
  {
   "cell_type": "code",
   "execution_count": 3,
   "id": "06d1435d",
   "metadata": {},
   "outputs": [
    {
     "name": "stdout",
     "output_type": "stream",
     "text": [
      "<class 'pandas.core.frame.DataFrame'>\n",
      "RangeIndex: 1296675 entries, 0 to 1296674\n",
      "Data columns (total 23 columns):\n",
      " #   Column                 Non-Null Count    Dtype  \n",
      "---  ------                 --------------    -----  \n",
      " 0   Unnamed: 0             1296675 non-null  int64  \n",
      " 1   trans_date_trans_time  1296675 non-null  object \n",
      " 2   cc_num                 1296675 non-null  int64  \n",
      " 3   merchant               1296675 non-null  object \n",
      " 4   category               1296675 non-null  object \n",
      " 5   amt                    1296675 non-null  float64\n",
      " 6   first                  1296675 non-null  object \n",
      " 7   last                   1296675 non-null  object \n",
      " 8   gender                 1296675 non-null  object \n",
      " 9   street                 1296675 non-null  object \n",
      " 10  city                   1296675 non-null  object \n",
      " 11  state                  1296675 non-null  object \n",
      " 12  zip                    1296675 non-null  int64  \n",
      " 13  lat                    1296675 non-null  float64\n",
      " 14  long                   1296675 non-null  float64\n",
      " 15  city_pop               1296675 non-null  int64  \n",
      " 16  job                    1296675 non-null  object \n",
      " 17  dob                    1296675 non-null  object \n",
      " 18  trans_num              1296675 non-null  object \n",
      " 19  unix_time              1296675 non-null  int64  \n",
      " 20  merch_lat              1296675 non-null  float64\n",
      " 21  merch_long             1296675 non-null  float64\n",
      " 22  is_fraud               1296675 non-null  int64  \n",
      "dtypes: float64(5), int64(6), object(12)\n",
      "memory usage: 227.5+ MB\n"
     ]
    }
   ],
   "source": [
    "df_cleaned.info()"
   ]
  },
  {
   "cell_type": "code",
   "execution_count": 4,
   "id": "7a7afedf",
   "metadata": {},
   "outputs": [
    {
     "data": {
      "application/vnd.microsoft.datawrangler.viewer.v0+json": {
       "columns": [
        {
         "name": "index",
         "rawType": "object",
         "type": "string"
        },
        {
         "name": "0",
         "rawType": "int64",
         "type": "integer"
        }
       ],
       "ref": "55e2878d-524e-4ae4-9845-edf748e18b92",
       "rows": [
        [
         "Unnamed: 0",
         "0"
        ],
        [
         "trans_date_trans_time",
         "0"
        ],
        [
         "cc_num",
         "0"
        ],
        [
         "merchant",
         "0"
        ],
        [
         "category",
         "0"
        ],
        [
         "amt",
         "0"
        ],
        [
         "first",
         "0"
        ],
        [
         "last",
         "0"
        ],
        [
         "gender",
         "0"
        ],
        [
         "street",
         "0"
        ],
        [
         "city",
         "0"
        ],
        [
         "state",
         "0"
        ],
        [
         "zip",
         "0"
        ],
        [
         "lat",
         "0"
        ],
        [
         "long",
         "0"
        ],
        [
         "city_pop",
         "0"
        ],
        [
         "job",
         "0"
        ],
        [
         "dob",
         "0"
        ],
        [
         "trans_num",
         "0"
        ],
        [
         "unix_time",
         "0"
        ],
        [
         "merch_lat",
         "0"
        ],
        [
         "merch_long",
         "0"
        ],
        [
         "is_fraud",
         "0"
        ]
       ],
       "shape": {
        "columns": 1,
        "rows": 23
       }
      },
      "text/plain": [
       "Unnamed: 0               0\n",
       "trans_date_trans_time    0\n",
       "cc_num                   0\n",
       "merchant                 0\n",
       "category                 0\n",
       "amt                      0\n",
       "first                    0\n",
       "last                     0\n",
       "gender                   0\n",
       "street                   0\n",
       "city                     0\n",
       "state                    0\n",
       "zip                      0\n",
       "lat                      0\n",
       "long                     0\n",
       "city_pop                 0\n",
       "job                      0\n",
       "dob                      0\n",
       "trans_num                0\n",
       "unix_time                0\n",
       "merch_lat                0\n",
       "merch_long               0\n",
       "is_fraud                 0\n",
       "dtype: int64"
      ]
     },
     "execution_count": 4,
     "metadata": {},
     "output_type": "execute_result"
    }
   ],
   "source": [
    "# Check null value\n",
    "df_cleaned.isnull().sum()"
   ]
  },
  {
   "cell_type": "code",
   "execution_count": 5,
   "id": "c89ca154",
   "metadata": {},
   "outputs": [
    {
     "data": {
      "text/plain": [
       "np.int64(0)"
      ]
     },
     "execution_count": 5,
     "metadata": {},
     "output_type": "execute_result"
    }
   ],
   "source": [
    "# Check duplicated\n",
    "df_cleaned.duplicated().sum()"
   ]
  },
  {
   "cell_type": "code",
   "execution_count": 6,
   "id": "00c00bac",
   "metadata": {},
   "outputs": [],
   "source": [
    "# Drop irrelevant column\n",
    "df_cleaned.drop(columns=['Unnamed: 0', 'cc_num', 'first', 'last', 'street', 'trans_num'], inplace=True)"
   ]
  },
  {
   "cell_type": "code",
   "execution_count": 7,
   "id": "cf295a42",
   "metadata": {},
   "outputs": [],
   "source": [
    "#Convert data type \n",
    "df_cleaned['trans_date_trans_time'] = pd.to_datetime(df_cleaned['trans_date_trans_time'])\n",
    "df_cleaned['dob'] = pd.to_datetime(df_cleaned['dob'])\n",
    "df_cleaned['unix_time'] = pd.to_datetime(df_cleaned['unix_time'], unit='s')"
   ]
  },
  {
   "cell_type": "code",
   "execution_count": 8,
   "id": "34020f43",
   "metadata": {},
   "outputs": [],
   "source": [
    "# Extract column 'trans_date_trans_time' \n",
    "\n",
    "df_cleaned['day'] = df_cleaned['trans_date_trans_time'].dt.day_name()\n",
    "df_cleaned['month'] = df_cleaned['trans_date_trans_time'].dt.month_name()\n",
    "df_cleaned['year'] = df_cleaned['trans_date_trans_time'].dt.year\n",
    "df_cleaned['hour'] = df_cleaned['trans_date_trans_time'].dt.hour"
   ]
  },
  {
   "cell_type": "code",
   "execution_count": 9,
   "id": "e25b2e02",
   "metadata": {},
   "outputs": [],
   "source": [
    "# Add age column\n",
    "df_cleaned['year_dob'] = df_cleaned['dob'].dt.year\n",
    "df_cleaned['age'] = df_cleaned['year'] - df_cleaned['year_dob']"
   ]
  },
  {
   "cell_type": "code",
   "execution_count": 10,
   "id": "da8a54b8",
   "metadata": {},
   "outputs": [
    {
     "data": {
      "text/plain": [
       "array([0, 1])"
      ]
     },
     "execution_count": 10,
     "metadata": {},
     "output_type": "execute_result"
    }
   ],
   "source": [
    "# Check unique value column 'is_fraud'\n",
    "df_cleaned['is_fraud'].unique()"
   ]
  },
  {
   "cell_type": "code",
   "execution_count": 11,
   "id": "8445c5ae",
   "metadata": {},
   "outputs": [
    {
     "name": "stdout",
     "output_type": "stream",
     "text": [
      "Total Transaction: 1296675\n",
      "Fraud Transaction: 7506\n",
      "Percentage Fraud Transaction: 0.58%\n"
     ]
    }
   ],
   "source": [
    "count_fraud = (df_cleaned['is_fraud'] == 1).sum()\n",
    "count_trx = len(df_cleaned)\n",
    "percentage_fraud = (count_fraud / count_trx) * 100\n",
    "\n",
    "print(f\"Total Transaction: {count_trx}\")\n",
    "print(f\"Fraud Transaction: {count_fraud}\")\n",
    "print(f\"Percentage Fraud Transaction: {percentage_fraud:.2f}%\")\n"
   ]
  },
  {
   "cell_type": "code",
   "execution_count": 12,
   "id": "3c047b8e",
   "metadata": {},
   "outputs": [
    {
     "name": "stdout",
     "output_type": "stream",
     "text": [
      "Loss Amount by Fraud : $3,988,088.61\n"
     ]
    }
   ],
   "source": [
    "total_loss_amount = df_cleaned[df_cleaned['is_fraud'] == 1]['amt'].sum()\n",
    "\n",
    "print(f\"Loss Amount by Fraud : ${total_loss_amount:,.2f}\")"
   ]
  },
  {
   "cell_type": "code",
   "execution_count": 13,
   "id": "397e22ed",
   "metadata": {},
   "outputs": [
    {
     "data": {
      "application/vnd.microsoft.datawrangler.viewer.v0+json": {
       "columns": [
        {
         "name": "index",
         "rawType": "object",
         "type": "string"
        },
        {
         "name": "trans_date_trans_time",
         "rawType": "object",
         "type": "unknown"
        },
        {
         "name": "amt",
         "rawType": "float64",
         "type": "float"
        },
        {
         "name": "zip",
         "rawType": "float64",
         "type": "float"
        },
        {
         "name": "lat",
         "rawType": "float64",
         "type": "float"
        },
        {
         "name": "long",
         "rawType": "float64",
         "type": "float"
        },
        {
         "name": "city_pop",
         "rawType": "float64",
         "type": "float"
        },
        {
         "name": "dob",
         "rawType": "object",
         "type": "unknown"
        },
        {
         "name": "unix_time",
         "rawType": "object",
         "type": "unknown"
        },
        {
         "name": "merch_lat",
         "rawType": "float64",
         "type": "float"
        },
        {
         "name": "merch_long",
         "rawType": "float64",
         "type": "float"
        },
        {
         "name": "is_fraud",
         "rawType": "float64",
         "type": "float"
        },
        {
         "name": "year",
         "rawType": "float64",
         "type": "float"
        },
        {
         "name": "hour",
         "rawType": "float64",
         "type": "float"
        },
        {
         "name": "year_dob",
         "rawType": "float64",
         "type": "float"
        },
        {
         "name": "age",
         "rawType": "float64",
         "type": "float"
        }
       ],
       "ref": "654ea718-7d1f-4b9f-b940-46391ee49e02",
       "rows": [
        [
         "count",
         "1296675",
         "1296675.0",
         "1296675.0",
         "1296675.0",
         "1296675.0",
         "1296675.0",
         "1296675",
         "1296675",
         "1296675.0",
         "1296675.0",
         "1296675.0",
         "1296675.0",
         "1296675.0",
         "1296675.0",
         "1296675.0"
        ],
        [
         "mean",
         "2019-10-03 12:47:28.070214144",
         "70.35103545607033",
         "48800.67109722945",
         "38.53762161489965",
         "-90.22633537864147",
         "88824.44056297839",
         "1973-10-03 19:02:55.017178512",
         "2012-10-03 05:53:56.726123008",
         "38.53733804469971",
         "-90.22646479897277",
         "0.005788651743883394",
         "2019.2867526558312",
         "12.804857809397111",
         "1973.2574546436076",
         "46.02929801222357"
        ],
        [
         "min",
         "2019-01-01 00:00:18",
         "1.0",
         "1257.0",
         "20.0271",
         "-165.6723",
         "23.0",
         "1924-10-30 00:00:00",
         "2012-01-01 00:00:18",
         "19.027785",
         "-166.671242",
         "0.0",
         "2019.0",
         "0.0",
         "1924.0",
         "14.0"
        ],
        [
         "25%",
         "2019-06-03 19:12:22.500000",
         "9.65",
         "26237.0",
         "34.6205",
         "-96.798",
         "743.0",
         "1962-08-13 00:00:00",
         "2012-06-03 19:12:22.500000",
         "34.733572",
         "-96.8972755",
         "0.0",
         "2019.0",
         "7.0",
         "1962.0",
         "33.0"
        ],
        [
         "50%",
         "2019-10-03 07:35:47",
         "47.52",
         "48174.0",
         "39.3543",
         "-87.4769",
         "2456.0",
         "1975-11-30 00:00:00",
         "2012-10-03 07:35:47",
         "39.36568",
         "-87.43839200000001",
         "0.0",
         "2019.0",
         "14.0",
         "1975.0",
         "44.0"
        ],
        [
         "75%",
         "2020-01-28 15:02:55.500000",
         "83.14",
         "72042.0",
         "41.9404",
         "-80.158",
         "20328.0",
         "1987-02-22 00:00:00",
         "2013-01-28 15:02:55.500000",
         "41.957164",
         "-80.2367965",
         "0.0",
         "2020.0",
         "19.0",
         "1987.0",
         "57.0"
        ],
        [
         "max",
         "2020-06-21 12:13:37",
         "28948.9",
         "99783.0",
         "66.6933",
         "-67.9503",
         "2906700.0",
         "2005-01-29 00:00:00",
         "2013-06-21 12:13:37",
         "67.510267",
         "-66.950902",
         "1.0",
         "2020.0",
         "23.0",
         "2005.0",
         "96.0"
        ],
        [
         "std",
         null,
         "160.31603857152774",
         "26893.2224764859",
         "5.075808438803932",
         "13.759076946486312",
         "301956.360688751",
         null,
         null,
         "5.109788369679177",
         "13.77109056479242",
         "0.07586268973125164",
         "0.45224520775337074",
         "6.817823899187188",
         "17.378484767364498",
         "17.382372624741265"
        ]
       ],
       "shape": {
        "columns": 15,
        "rows": 8
       }
      },
      "text/html": [
       "<div>\n",
       "<style scoped>\n",
       "    .dataframe tbody tr th:only-of-type {\n",
       "        vertical-align: middle;\n",
       "    }\n",
       "\n",
       "    .dataframe tbody tr th {\n",
       "        vertical-align: top;\n",
       "    }\n",
       "\n",
       "    .dataframe thead th {\n",
       "        text-align: right;\n",
       "    }\n",
       "</style>\n",
       "<table border=\"1\" class=\"dataframe\">\n",
       "  <thead>\n",
       "    <tr style=\"text-align: right;\">\n",
       "      <th></th>\n",
       "      <th>trans_date_trans_time</th>\n",
       "      <th>amt</th>\n",
       "      <th>zip</th>\n",
       "      <th>lat</th>\n",
       "      <th>long</th>\n",
       "      <th>city_pop</th>\n",
       "      <th>dob</th>\n",
       "      <th>unix_time</th>\n",
       "      <th>merch_lat</th>\n",
       "      <th>merch_long</th>\n",
       "      <th>is_fraud</th>\n",
       "      <th>year</th>\n",
       "      <th>hour</th>\n",
       "      <th>year_dob</th>\n",
       "      <th>age</th>\n",
       "    </tr>\n",
       "  </thead>\n",
       "  <tbody>\n",
       "    <tr>\n",
       "      <th>count</th>\n",
       "      <td>1296675</td>\n",
       "      <td>1.296675e+06</td>\n",
       "      <td>1.296675e+06</td>\n",
       "      <td>1.296675e+06</td>\n",
       "      <td>1.296675e+06</td>\n",
       "      <td>1.296675e+06</td>\n",
       "      <td>1296675</td>\n",
       "      <td>1296675</td>\n",
       "      <td>1.296675e+06</td>\n",
       "      <td>1.296675e+06</td>\n",
       "      <td>1.296675e+06</td>\n",
       "      <td>1.296675e+06</td>\n",
       "      <td>1.296675e+06</td>\n",
       "      <td>1.296675e+06</td>\n",
       "      <td>1.296675e+06</td>\n",
       "    </tr>\n",
       "    <tr>\n",
       "      <th>mean</th>\n",
       "      <td>2019-10-03 12:47:28.070214144</td>\n",
       "      <td>7.035104e+01</td>\n",
       "      <td>4.880067e+04</td>\n",
       "      <td>3.853762e+01</td>\n",
       "      <td>-9.022634e+01</td>\n",
       "      <td>8.882444e+04</td>\n",
       "      <td>1973-10-03 19:02:55.017178512</td>\n",
       "      <td>2012-10-03 05:53:56.726123008</td>\n",
       "      <td>3.853734e+01</td>\n",
       "      <td>-9.022646e+01</td>\n",
       "      <td>5.788652e-03</td>\n",
       "      <td>2.019287e+03</td>\n",
       "      <td>1.280486e+01</td>\n",
       "      <td>1.973257e+03</td>\n",
       "      <td>4.602930e+01</td>\n",
       "    </tr>\n",
       "    <tr>\n",
       "      <th>min</th>\n",
       "      <td>2019-01-01 00:00:18</td>\n",
       "      <td>1.000000e+00</td>\n",
       "      <td>1.257000e+03</td>\n",
       "      <td>2.002710e+01</td>\n",
       "      <td>-1.656723e+02</td>\n",
       "      <td>2.300000e+01</td>\n",
       "      <td>1924-10-30 00:00:00</td>\n",
       "      <td>2012-01-01 00:00:18</td>\n",
       "      <td>1.902779e+01</td>\n",
       "      <td>-1.666712e+02</td>\n",
       "      <td>0.000000e+00</td>\n",
       "      <td>2.019000e+03</td>\n",
       "      <td>0.000000e+00</td>\n",
       "      <td>1.924000e+03</td>\n",
       "      <td>1.400000e+01</td>\n",
       "    </tr>\n",
       "    <tr>\n",
       "      <th>25%</th>\n",
       "      <td>2019-06-03 19:12:22.500000</td>\n",
       "      <td>9.650000e+00</td>\n",
       "      <td>2.623700e+04</td>\n",
       "      <td>3.462050e+01</td>\n",
       "      <td>-9.679800e+01</td>\n",
       "      <td>7.430000e+02</td>\n",
       "      <td>1962-08-13 00:00:00</td>\n",
       "      <td>2012-06-03 19:12:22.500000</td>\n",
       "      <td>3.473357e+01</td>\n",
       "      <td>-9.689728e+01</td>\n",
       "      <td>0.000000e+00</td>\n",
       "      <td>2.019000e+03</td>\n",
       "      <td>7.000000e+00</td>\n",
       "      <td>1.962000e+03</td>\n",
       "      <td>3.300000e+01</td>\n",
       "    </tr>\n",
       "    <tr>\n",
       "      <th>50%</th>\n",
       "      <td>2019-10-03 07:35:47</td>\n",
       "      <td>4.752000e+01</td>\n",
       "      <td>4.817400e+04</td>\n",
       "      <td>3.935430e+01</td>\n",
       "      <td>-8.747690e+01</td>\n",
       "      <td>2.456000e+03</td>\n",
       "      <td>1975-11-30 00:00:00</td>\n",
       "      <td>2012-10-03 07:35:47</td>\n",
       "      <td>3.936568e+01</td>\n",
       "      <td>-8.743839e+01</td>\n",
       "      <td>0.000000e+00</td>\n",
       "      <td>2.019000e+03</td>\n",
       "      <td>1.400000e+01</td>\n",
       "      <td>1.975000e+03</td>\n",
       "      <td>4.400000e+01</td>\n",
       "    </tr>\n",
       "    <tr>\n",
       "      <th>75%</th>\n",
       "      <td>2020-01-28 15:02:55.500000</td>\n",
       "      <td>8.314000e+01</td>\n",
       "      <td>7.204200e+04</td>\n",
       "      <td>4.194040e+01</td>\n",
       "      <td>-8.015800e+01</td>\n",
       "      <td>2.032800e+04</td>\n",
       "      <td>1987-02-22 00:00:00</td>\n",
       "      <td>2013-01-28 15:02:55.500000</td>\n",
       "      <td>4.195716e+01</td>\n",
       "      <td>-8.023680e+01</td>\n",
       "      <td>0.000000e+00</td>\n",
       "      <td>2.020000e+03</td>\n",
       "      <td>1.900000e+01</td>\n",
       "      <td>1.987000e+03</td>\n",
       "      <td>5.700000e+01</td>\n",
       "    </tr>\n",
       "    <tr>\n",
       "      <th>max</th>\n",
       "      <td>2020-06-21 12:13:37</td>\n",
       "      <td>2.894890e+04</td>\n",
       "      <td>9.978300e+04</td>\n",
       "      <td>6.669330e+01</td>\n",
       "      <td>-6.795030e+01</td>\n",
       "      <td>2.906700e+06</td>\n",
       "      <td>2005-01-29 00:00:00</td>\n",
       "      <td>2013-06-21 12:13:37</td>\n",
       "      <td>6.751027e+01</td>\n",
       "      <td>-6.695090e+01</td>\n",
       "      <td>1.000000e+00</td>\n",
       "      <td>2.020000e+03</td>\n",
       "      <td>2.300000e+01</td>\n",
       "      <td>2.005000e+03</td>\n",
       "      <td>9.600000e+01</td>\n",
       "    </tr>\n",
       "    <tr>\n",
       "      <th>std</th>\n",
       "      <td>NaN</td>\n",
       "      <td>1.603160e+02</td>\n",
       "      <td>2.689322e+04</td>\n",
       "      <td>5.075808e+00</td>\n",
       "      <td>1.375908e+01</td>\n",
       "      <td>3.019564e+05</td>\n",
       "      <td>NaN</td>\n",
       "      <td>NaN</td>\n",
       "      <td>5.109788e+00</td>\n",
       "      <td>1.377109e+01</td>\n",
       "      <td>7.586269e-02</td>\n",
       "      <td>4.522452e-01</td>\n",
       "      <td>6.817824e+00</td>\n",
       "      <td>1.737848e+01</td>\n",
       "      <td>1.738237e+01</td>\n",
       "    </tr>\n",
       "  </tbody>\n",
       "</table>\n",
       "</div>"
      ],
      "text/plain": [
       "               trans_date_trans_time           amt           zip  \\\n",
       "count                        1296675  1.296675e+06  1.296675e+06   \n",
       "mean   2019-10-03 12:47:28.070214144  7.035104e+01  4.880067e+04   \n",
       "min              2019-01-01 00:00:18  1.000000e+00  1.257000e+03   \n",
       "25%       2019-06-03 19:12:22.500000  9.650000e+00  2.623700e+04   \n",
       "50%              2019-10-03 07:35:47  4.752000e+01  4.817400e+04   \n",
       "75%       2020-01-28 15:02:55.500000  8.314000e+01  7.204200e+04   \n",
       "max              2020-06-21 12:13:37  2.894890e+04  9.978300e+04   \n",
       "std                              NaN  1.603160e+02  2.689322e+04   \n",
       "\n",
       "                lat          long      city_pop  \\\n",
       "count  1.296675e+06  1.296675e+06  1.296675e+06   \n",
       "mean   3.853762e+01 -9.022634e+01  8.882444e+04   \n",
       "min    2.002710e+01 -1.656723e+02  2.300000e+01   \n",
       "25%    3.462050e+01 -9.679800e+01  7.430000e+02   \n",
       "50%    3.935430e+01 -8.747690e+01  2.456000e+03   \n",
       "75%    4.194040e+01 -8.015800e+01  2.032800e+04   \n",
       "max    6.669330e+01 -6.795030e+01  2.906700e+06   \n",
       "std    5.075808e+00  1.375908e+01  3.019564e+05   \n",
       "\n",
       "                                 dob                      unix_time  \\\n",
       "count                        1296675                        1296675   \n",
       "mean   1973-10-03 19:02:55.017178512  2012-10-03 05:53:56.726123008   \n",
       "min              1924-10-30 00:00:00            2012-01-01 00:00:18   \n",
       "25%              1962-08-13 00:00:00     2012-06-03 19:12:22.500000   \n",
       "50%              1975-11-30 00:00:00            2012-10-03 07:35:47   \n",
       "75%              1987-02-22 00:00:00     2013-01-28 15:02:55.500000   \n",
       "max              2005-01-29 00:00:00            2013-06-21 12:13:37   \n",
       "std                              NaN                            NaN   \n",
       "\n",
       "          merch_lat    merch_long      is_fraud          year          hour  \\\n",
       "count  1.296675e+06  1.296675e+06  1.296675e+06  1.296675e+06  1.296675e+06   \n",
       "mean   3.853734e+01 -9.022646e+01  5.788652e-03  2.019287e+03  1.280486e+01   \n",
       "min    1.902779e+01 -1.666712e+02  0.000000e+00  2.019000e+03  0.000000e+00   \n",
       "25%    3.473357e+01 -9.689728e+01  0.000000e+00  2.019000e+03  7.000000e+00   \n",
       "50%    3.936568e+01 -8.743839e+01  0.000000e+00  2.019000e+03  1.400000e+01   \n",
       "75%    4.195716e+01 -8.023680e+01  0.000000e+00  2.020000e+03  1.900000e+01   \n",
       "max    6.751027e+01 -6.695090e+01  1.000000e+00  2.020000e+03  2.300000e+01   \n",
       "std    5.109788e+00  1.377109e+01  7.586269e-02  4.522452e-01  6.817824e+00   \n",
       "\n",
       "           year_dob           age  \n",
       "count  1.296675e+06  1.296675e+06  \n",
       "mean   1.973257e+03  4.602930e+01  \n",
       "min    1.924000e+03  1.400000e+01  \n",
       "25%    1.962000e+03  3.300000e+01  \n",
       "50%    1.975000e+03  4.400000e+01  \n",
       "75%    1.987000e+03  5.700000e+01  \n",
       "max    2.005000e+03  9.600000e+01  \n",
       "std    1.737848e+01  1.738237e+01  "
      ]
     },
     "execution_count": 13,
     "metadata": {},
     "output_type": "execute_result"
    }
   ],
   "source": [
    "df_cleaned.describe()"
   ]
  },
  {
   "cell_type": "code",
   "execution_count": 14,
   "id": "1af6c6f7",
   "metadata": {},
   "outputs": [
    {
     "data": {
      "application/vnd.microsoft.datawrangler.viewer.v0+json": {
       "columns": [
        {
         "name": "index",
         "rawType": "object",
         "type": "string"
        },
        {
         "name": "merchant",
         "rawType": "object",
         "type": "unknown"
        },
        {
         "name": "category",
         "rawType": "object",
         "type": "unknown"
        },
        {
         "name": "gender",
         "rawType": "object",
         "type": "unknown"
        },
        {
         "name": "city",
         "rawType": "object",
         "type": "unknown"
        },
        {
         "name": "state",
         "rawType": "object",
         "type": "unknown"
        },
        {
         "name": "job",
         "rawType": "object",
         "type": "unknown"
        },
        {
         "name": "day",
         "rawType": "object",
         "type": "unknown"
        },
        {
         "name": "month",
         "rawType": "object",
         "type": "unknown"
        }
       ],
       "ref": "c9fd69d1-2ebe-4767-abdb-d2dfb2d6928d",
       "rows": [
        [
         "count",
         "1296675",
         "1296675",
         "1296675",
         "1296675",
         "1296675",
         "1296675",
         "1296675",
         "1296675"
        ],
        [
         "unique",
         "693",
         "14",
         "2",
         "894",
         "51",
         "494",
         "7",
         "12"
        ],
        [
         "top",
         "fraud_Kilback LLC",
         "gas_transport",
         "F",
         "Birmingham",
         "TX",
         "Film/video editor",
         "Monday",
         "May"
        ],
        [
         "freq",
         "4403",
         "131659",
         "709863",
         "5617",
         "94876",
         "9779",
         "254282",
         "146875"
        ]
       ],
       "shape": {
        "columns": 8,
        "rows": 4
       }
      },
      "text/html": [
       "<div>\n",
       "<style scoped>\n",
       "    .dataframe tbody tr th:only-of-type {\n",
       "        vertical-align: middle;\n",
       "    }\n",
       "\n",
       "    .dataframe tbody tr th {\n",
       "        vertical-align: top;\n",
       "    }\n",
       "\n",
       "    .dataframe thead th {\n",
       "        text-align: right;\n",
       "    }\n",
       "</style>\n",
       "<table border=\"1\" class=\"dataframe\">\n",
       "  <thead>\n",
       "    <tr style=\"text-align: right;\">\n",
       "      <th></th>\n",
       "      <th>merchant</th>\n",
       "      <th>category</th>\n",
       "      <th>gender</th>\n",
       "      <th>city</th>\n",
       "      <th>state</th>\n",
       "      <th>job</th>\n",
       "      <th>day</th>\n",
       "      <th>month</th>\n",
       "    </tr>\n",
       "  </thead>\n",
       "  <tbody>\n",
       "    <tr>\n",
       "      <th>count</th>\n",
       "      <td>1296675</td>\n",
       "      <td>1296675</td>\n",
       "      <td>1296675</td>\n",
       "      <td>1296675</td>\n",
       "      <td>1296675</td>\n",
       "      <td>1296675</td>\n",
       "      <td>1296675</td>\n",
       "      <td>1296675</td>\n",
       "    </tr>\n",
       "    <tr>\n",
       "      <th>unique</th>\n",
       "      <td>693</td>\n",
       "      <td>14</td>\n",
       "      <td>2</td>\n",
       "      <td>894</td>\n",
       "      <td>51</td>\n",
       "      <td>494</td>\n",
       "      <td>7</td>\n",
       "      <td>12</td>\n",
       "    </tr>\n",
       "    <tr>\n",
       "      <th>top</th>\n",
       "      <td>fraud_Kilback LLC</td>\n",
       "      <td>gas_transport</td>\n",
       "      <td>F</td>\n",
       "      <td>Birmingham</td>\n",
       "      <td>TX</td>\n",
       "      <td>Film/video editor</td>\n",
       "      <td>Monday</td>\n",
       "      <td>May</td>\n",
       "    </tr>\n",
       "    <tr>\n",
       "      <th>freq</th>\n",
       "      <td>4403</td>\n",
       "      <td>131659</td>\n",
       "      <td>709863</td>\n",
       "      <td>5617</td>\n",
       "      <td>94876</td>\n",
       "      <td>9779</td>\n",
       "      <td>254282</td>\n",
       "      <td>146875</td>\n",
       "    </tr>\n",
       "  </tbody>\n",
       "</table>\n",
       "</div>"
      ],
      "text/plain": [
       "                 merchant       category   gender        city    state  \\\n",
       "count             1296675        1296675  1296675     1296675  1296675   \n",
       "unique                693             14        2         894       51   \n",
       "top     fraud_Kilback LLC  gas_transport        F  Birmingham       TX   \n",
       "freq                 4403         131659   709863        5617    94876   \n",
       "\n",
       "                      job      day    month  \n",
       "count             1296675  1296675  1296675  \n",
       "unique                494        7       12  \n",
       "top     Film/video editor   Monday      May  \n",
       "freq                 9779   254282   146875  "
      ]
     },
     "execution_count": 14,
     "metadata": {},
     "output_type": "execute_result"
    }
   ],
   "source": [
    "df_cleaned.describe(include=object)"
   ]
  },
  {
   "cell_type": "markdown",
   "id": "1365d795",
   "metadata": {},
   "source": [
    "# EDA"
   ]
  },
  {
   "cell_type": "markdown",
   "id": "d7ef5552",
   "metadata": {},
   "source": [
    "### Finding correlation (numeric_only) with target variable"
   ]
  },
  {
   "cell_type": "code",
   "execution_count": 15,
   "id": "3cb17057",
   "metadata": {},
   "outputs": [
    {
     "data": {
      "application/vnd.microsoft.datawrangler.viewer.v0+json": {
       "columns": [
        {
         "name": "index",
         "rawType": "object",
         "type": "string"
        },
        {
         "name": "is_fraud",
         "rawType": "float64",
         "type": "float"
        }
       ],
       "ref": "e497047a-ec80-40ce-8663-178e2b58af33",
       "rows": [
        [
         "amt",
         "0.21940388895887247"
        ],
        [
         "zip",
         "-0.002161907281966252"
        ],
        [
         "lat",
         "0.0018939555104819626"
        ],
        [
         "long",
         "0.0017208127515248475"
        ],
        [
         "city_pop",
         "0.002135902418198207"
        ],
        [
         "merch_lat",
         "0.0017406268494944614"
        ],
        [
         "merch_long",
         "0.0017213204008220606"
        ],
        [
         "is_fraud",
         "1.0"
        ],
        [
         "year",
         "0.003003902223977703"
        ],
        [
         "hour",
         "0.013799370523446692"
        ],
        [
         "year_dob",
         "-0.012378101674704956"
        ],
        [
         "age",
         "0.012453487015932145"
        ]
       ],
       "shape": {
        "columns": 1,
        "rows": 12
       }
      },
      "text/plain": [
       "amt           0.219404\n",
       "zip          -0.002162\n",
       "lat           0.001894\n",
       "long          0.001721\n",
       "city_pop      0.002136\n",
       "merch_lat     0.001741\n",
       "merch_long    0.001721\n",
       "is_fraud      1.000000\n",
       "year          0.003004\n",
       "hour          0.013799\n",
       "year_dob     -0.012378\n",
       "age           0.012453\n",
       "Name: is_fraud, dtype: float64"
      ]
     },
     "execution_count": 15,
     "metadata": {},
     "output_type": "execute_result"
    }
   ],
   "source": [
    "cor = df_cleaned.corr(numeric_only=True)\n",
    "cor['is_fraud']"
   ]
  },
  {
   "cell_type": "markdown",
   "id": "e83d491d",
   "metadata": {},
   "source": [
    "## Financial Fraud Impact Analysis"
   ]
  },
  {
   "cell_type": "code",
   "execution_count": 16,
   "id": "761ebd93",
   "metadata": {},
   "outputs": [
    {
     "data": {
      "image/png": "[encoded data removed]",
      "text/plain": [
       "<Figure size 800x600 with 1 Axes>"
      ]
     },
     "metadata": {},
     "output_type": "display_data"
    }
   ],
   "source": [
    "# Box Plot to compare the distribution of transaction amount (amt) between fraud (1) and non-fraud (0)\n",
    "plt.figure(figsize=(8, 6))\n",
    "sns.boxplot(x='is_fraud', y='amt', data=df_cleaned)\n",
    "plt.title('Distribution of Transaction Amount (amt) vs. Fraud Status')\n",
    "plt.xlabel('Fraud Status (0: Non-Fraud, 1: Fraud)')\n",
    "plt.ylabel('Transaction Amount (amt)')\n",
    "plt.ylim(0, 1000) # Limit the Y-axis to clearly show the box plot \n",
    "\n",
    "plt.show()"
   ]
  },
  {
   "cell_type": "code",
   "execution_count": 17,
   "id": "6537991f",
   "metadata": {},
   "outputs": [
    {
     "data": {
      "image/png": "[encoded data removed]",
      "text/plain": [
       "<Figure size 1000x500 with 1 Axes>"
      ]
     },
     "metadata": {},
     "output_type": "display_data"
    }
   ],
   "source": [
    "# Histogram to view the distribution of fraudulent transaction amounts\n",
    "sns.set(style=\"whitegrid\")\n",
    "plt.figure(figsize=(10, 5))\n",
    "sns.histplot(df_cleaned[df_cleaned['is_fraud'] == 1]['amt'], bins=50, kde=True, color='red')\n",
    "plt.title('Distribution of Fraudulent Transaction Amounts')\n",
    "plt.xlabel('Transaction Amount (amt)')\n",
    "plt.ylabel('Frequency')\n",
    "\n",
    "plt.show()"
   ]
  },
  {
   "cell_type": "markdown",
   "id": "d12635b9",
   "metadata": {},
   "source": [
    "### Rasio Fraud by gender"
   ]
  },
  {
   "cell_type": "code",
   "execution_count": 18,
   "id": "f1402b34",
   "metadata": {},
   "outputs": [
    {
     "name": "stderr",
     "output_type": "stream",
     "text": [
      "C:\\Users\\DELL\\AppData\\Local\\Temp\\ipykernel_7592\\4033838678.py:5: FutureWarning: \n",
      "\n",
      "Passing `palette` without assigning `hue` is deprecated and will be removed in v0.14.0. Assign the `x` variable to `hue` and set `legend=False` for the same effect.\n",
      "\n",
      "  sns.barplot(\n"
     ]
    },
    {
     "data": {
      "image/png": "[encoded data removed]",
      "text/plain": [
       "<Figure size 800x600 with 1 Axes>"
      ]
     },
     "metadata": {},
     "output_type": "display_data"
    }
   ],
   "source": [
    "fraud_by_gender = df_cleaned.groupby('gender')['is_fraud'].mean().multiply(100).reset_index()\n",
    "\n",
    "sns.set(style=\"whitegrid\")\n",
    "plt.figure(figsize=(8, 6))\n",
    "sns.barplot(\n",
    "    x='gender',\n",
    "    y='is_fraud',\n",
    "    data=fraud_by_gender,\n",
    "    palette='viridis'\n",
    ")\n",
    "\n",
    "# Set label grafik\n",
    "plt.title('Rasio Fraud per Gender')\n",
    "plt.xlabel('Gender')\n",
    "plt.ylabel('Rasio Fraud')\n",
    "\n",
    "plt.tight_layout()\n",
    "plt.show()\n"
   ]
  },
  {
   "cell_type": "markdown",
   "id": "8403a4dc",
   "metadata": {},
   "source": [
    "### Distribusi Fraud by Gender"
   ]
  },
  {
   "cell_type": "code",
   "execution_count": 19,
   "id": "854885f7",
   "metadata": {},
   "outputs": [
    {
     "name": "stdout",
     "output_type": "stream",
     "text": [
      "is_fraud       0     1\n",
      "gender                \n",
      "F         706128  3735\n",
      "M         583041  3771\n"
     ]
    }
   ],
   "source": [
    "# Group gender by column is_fraud\n",
    "summary_gender = df_cleaned.groupby('gender')['is_fraud'].value_counts().unstack(fill_value=0)\n",
    "\n",
    "print(summary_gender)"
   ]
  },
  {
   "cell_type": "code",
   "execution_count": 20,
   "id": "8a0c0294",
   "metadata": {},
   "outputs": [
    {
     "name": "stdout",
     "output_type": "stream",
     "text": [
      "Total loss fraud by gender : $3,988,088.61\n",
      "Loss amount by gender : \n",
      "F: $1,845,287.34\n",
      "M: $2,142,801.27\n"
     ]
    }
   ],
   "source": [
    "# Define fraud transaction\n",
    "fraud_trx = df_cleaned[df_cleaned['is_fraud']==1]\n",
    "\n",
    "# Group gender by amt\n",
    "fraud_by_gender = fraud_trx.groupby('gender')['amt'].sum()\n",
    "\n",
    "total_loss_amount_gender = fraud_by_gender.sum()\n",
    "\n",
    "print(f\"Total loss fraud by gender : ${total_loss_amount_gender:,.2f}\")\n",
    "\n",
    "print(\"Loss amount by gender : \")\n",
    "for gender, amt in fraud_by_gender.items():\n",
    "    print(f\"{gender}: ${amt:,.2f}\")"
   ]
  },
  {
   "cell_type": "markdown",
   "id": "07ca5640",
   "metadata": {},
   "source": [
    "### Ratio Fraud by Top 10 Category"
   ]
  },
  {
   "cell_type": "code",
   "execution_count": 21,
   "id": "1313b0e0",
   "metadata": {},
   "outputs": [
    {
     "name": "stderr",
     "output_type": "stream",
     "text": [
      "C:\\Users\\DELL\\AppData\\Local\\Temp\\ipykernel_7592\\2667340569.py:5: FutureWarning: \n",
      "\n",
      "Passing `palette` without assigning `hue` is deprecated and will be removed in v0.14.0. Assign the `x` variable to `hue` and set `legend=False` for the same effect.\n",
      "\n",
      "  sns.barplot(\n"
     ]
    },
    {
     "data": {
      "image/png": "[encoded data removed]",
      "text/plain": [
       "<Figure size 800x600 with 1 Axes>"
      ]
     },
     "metadata": {},
     "output_type": "display_data"
    }
   ],
   "source": [
    "top_10_category = df_cleaned.groupby('category')['is_fraud'].mean().multiply(100).sort_values(ascending=False).head(10).reset_index()\n",
    "\n",
    "sns.set(style=\"whitegrid\")\n",
    "plt.figure(figsize=(8, 6))\n",
    "sns.barplot(\n",
    "    x='category',\n",
    "    y='is_fraud',\n",
    "    data=top_10_category,\n",
    "    palette='viridis'\n",
    ")\n",
    "\n",
    "# Set label grafik\n",
    "plt.title('Ratio Fraud by Category')\n",
    "plt.xlabel('Category')\n",
    "plt.ylabel('Rayio Fraud')\n",
    "plt.xticks(rotation=45, ha='right')\n",
    "\n",
    "plt.tight_layout()\n",
    "plt.show()\n"
   ]
  },
  {
   "cell_type": "markdown",
   "id": "64712f46",
   "metadata": {},
   "source": [
    "### Distribusi Fraud by Category"
   ]
  },
  {
   "cell_type": "code",
   "execution_count": 22,
   "id": "a059709b",
   "metadata": {},
   "outputs": [
    {
     "name": "stdout",
     "output_type": "stream",
     "text": [
      "is_fraud             0     1\n",
      "category                    \n",
      "grocery_pos     121895  1743\n",
      "shopping_net     95830  1713\n",
      "misc_net         62372   915\n",
      "shopping_pos    115829   843\n",
      "gas_transport   131041   618\n",
      "misc_pos         79405   250\n",
      "kids_pets       112796   239\n",
      "entertainment    93781   233\n",
      "personal_care    90538   220\n",
      "home            122917   198\n",
      "food_dining      91310   151\n",
      "grocery_net      45318   134\n",
      "health_fitness   85746   133\n",
      "travel           40391   116\n"
     ]
    }
   ],
   "source": [
    "# Group category by column is_fraud\n",
    "summary_category = df_cleaned.groupby('category')['is_fraud'].value_counts().unstack(fill_value=0)\n",
    "\n",
    "print(summary_category.sort_values(by=1, ascending=False))"
   ]
  },
  {
   "cell_type": "code",
   "execution_count": 23,
   "id": "79dbef51",
   "metadata": {},
   "outputs": [
    {
     "name": "stdout",
     "output_type": "stream",
     "text": [
      "Total loss amount fraud by category : $3,988,088.61\n",
      "Loss amount by category : \n",
      "shopping_net: $1,711,723.71\n",
      "shopping_pos: $739,245.09\n",
      "misc_net: $729,266.76\n",
      "grocery_pos: $543,797.90\n",
      "entertainment: $117,323.79\n",
      "misc_pos: $54,571.02\n",
      "home: $50,971.66\n",
      "food_dining: $18,131.62\n",
      "gas_transport: $7,594.11\n",
      "personal_care: $5,757.52\n",
      "kids_pets: $4,331.08\n",
      "health_fitness: $2,693.04\n",
      "grocery_net: $1,629.82\n",
      "travel: $1,051.49\n"
     ]
    }
   ],
   "source": [
    "# Group category by amt\n",
    "fraud_by_category = fraud_trx.groupby('category')['amt'].sum()\n",
    "\n",
    "total_loss_amount_category = fraud_by_category.sum()\n",
    "\n",
    "print(f\"Total loss amount fraud by category : ${total_loss_amount_category:,.2f}\")\n",
    "\n",
    "print(\"Loss amount by category : \")\n",
    "for category, amt in fraud_by_category.sort_values(ascending=False).items():\n",
    "   print(f\"{category}: ${amt:,.2f}\")"
   ]
  },
  {
   "cell_type": "markdown",
   "id": "500f78a0",
   "metadata": {},
   "source": [
    "### Ratio fraud by City"
   ]
  },
  {
   "cell_type": "code",
   "execution_count": 24,
   "id": "ce80cf86",
   "metadata": {},
   "outputs": [
    {
     "name": "stderr",
     "output_type": "stream",
     "text": [
      "C:\\Users\\DELL\\AppData\\Local\\Temp\\ipykernel_7592\\3268541550.py:5: FutureWarning: \n",
      "\n",
      "Passing `palette` without assigning `hue` is deprecated and will be removed in v0.14.0. Assign the `x` variable to `hue` and set `legend=False` for the same effect.\n",
      "\n",
      "  sns.barplot(\n"
     ]
    },
    {
     "data": {
      "text/plain": [
       "<function matplotlib.pyplot.show(close=None, block=None)>"
      ]
     },
     "execution_count": 24,
     "metadata": {},
     "output_type": "execute_result"
    },
    {
     "data": {
      "image/png": "[encoded data removed]",
      "text/plain": [
       "<Figure size 800x600 with 1 Axes>"
      ]
     },
     "metadata": {},
     "output_type": "display_data"
    }
   ],
   "source": [
    "top_10_city = df_cleaned.groupby('city')['is_fraud'].mean().multiply(100).sort_values(ascending=False).head(10).reset_index()\n",
    "\n",
    "sns.set_style('whitegrid')\n",
    "plt.figure(figsize=(8, 6))\n",
    "sns.barplot(\n",
    "    x='city',\n",
    "    y='is_fraud',\n",
    "    data=top_10_city,\n",
    "    palette='viridis'\n",
    ")\n",
    "\n",
    "plt.title('Ratio Fraud by City')\n",
    "plt.xlabel('City')\n",
    "plt.ylabel('Ratio Fraud')\n",
    "plt.xticks(rotation=45, ha='right')\n",
    "\n",
    "plt.show"
   ]
  },
  {
   "cell_type": "markdown",
   "id": "7be5e246",
   "metadata": {},
   "source": [
    "### Distribution fraud by city"
   ]
  },
  {
   "cell_type": "code",
   "execution_count": 25,
   "id": "e9aba957",
   "metadata": {},
   "outputs": [
    {
     "name": "stdout",
     "output_type": "stream",
     "text": [
      "is_fraud        0   1\n",
      "city                 \n",
      "Houston      4129  39\n",
      "Warren       4566  33\n",
      "Huntsville   3531  29\n",
      "Naples       4126  29\n",
      "Topeka       3001  27\n",
      "...           ...  ..\n",
      "Bay Minette  1560   0\n",
      "Annapolis     525   0\n",
      "Belgrade     2043   0\n",
      "Zavalla      1537   0\n",
      "Malad City    503   0\n",
      "\n",
      "[894 rows x 2 columns]\n"
     ]
    }
   ],
   "source": [
    "# Group city by column is_fraud\n",
    "summary_city = df_cleaned.groupby('city')['is_fraud'].value_counts().unstack(fill_value=0)\n",
    "\n",
    "print(summary_city.sort_values(by=1, ascending=False))"
   ]
  },
  {
   "cell_type": "code",
   "execution_count": 26,
   "id": "a5ad859d",
   "metadata": {},
   "outputs": [
    {
     "name": "stdout",
     "output_type": "stream",
     "text": [
      "Total loss amount by city : $3,988,088.61\n",
      "Top 10 Loss amount by city :\n",
      "Houston: $21,667.21\n",
      "Dallas: $19,747.14\n",
      "Warren: $18,221.79\n",
      "Tulsa: $17,470.25\n",
      "Naples: $17,220.43\n",
      "Huntsville: $15,142.79\n",
      "Randolph: $14,773.45\n",
      "San Antonio: $14,536.75\n",
      "Lakeland: $13,211.61\n",
      "New York City: $13,136.86\n"
     ]
    }
   ],
   "source": [
    "# Group gender by amt\n",
    "fraud_by_city = fraud_trx.groupby('city')['amt'].sum()\n",
    "\n",
    "total_loss_amount_city = fraud_by_city.sum()\n",
    "\n",
    "print(f\"Total loss amount by city : ${total_loss_amount_city:,.2f}\")\n",
    "\n",
    "print(\"Top 10 Loss amount by city :\")\n",
    "for city, amt in fraud_by_city.sort_values(ascending=False).head(10).items():\n",
    "    print(f\"{city}: ${amt:,.2f}\")"
   ]
  },
  {
   "cell_type": "markdown",
   "id": "60dad1c7",
   "metadata": {},
   "source": [
    "### Ratio Fraud by State"
   ]
  },
  {
   "cell_type": "code",
   "execution_count": 27,
   "id": "dc496e83",
   "metadata": {},
   "outputs": [
    {
     "name": "stderr",
     "output_type": "stream",
     "text": [
      "C:\\Users\\DELL\\AppData\\Local\\Temp\\ipykernel_7592\\3942154306.py:5: FutureWarning: \n",
      "\n",
      "Passing `palette` without assigning `hue` is deprecated and will be removed in v0.14.0. Assign the `x` variable to `hue` and set `legend=False` for the same effect.\n",
      "\n",
      "  sns.barplot(\n"
     ]
    },
    {
     "data": {
      "image/png": "[encoded data removed]",
      "text/plain": [
       "<Figure size 640x480 with 1 Axes>"
      ]
     },
     "metadata": {},
     "output_type": "display_data"
    }
   ],
   "source": [
    "top_10_state = df_cleaned.groupby('state')['is_fraud'].mean().multiply(100).sort_values(ascending=False).head(10).reset_index()\n",
    "\n",
    "sns.set_style('whitegrid')\n",
    "plt.Figure(figsize=(8, 6))\n",
    "sns.barplot(\n",
    "    x='state',\n",
    "    y='is_fraud',\n",
    "    data=top_10_state,\n",
    "    palette='viridis'\n",
    ")\n",
    "\n",
    "plt.title('Ratio Fraud by State')\n",
    "plt.xlabel('State')\n",
    "plt.ylabel('Ratio')\n",
    "plt.xticks(rotation=45, ha='right')\n",
    "\n",
    "plt.show()"
   ]
  },
  {
   "cell_type": "markdown",
   "id": "bd18f6c8",
   "metadata": {},
   "source": [
    "### Distribution fraud by state"
   ]
  },
  {
   "cell_type": "code",
   "execution_count": 28,
   "id": "080ac32d",
   "metadata": {},
   "outputs": [
    {
     "name": "stdout",
     "output_type": "stream",
     "text": [
      "is_fraud      0    1\n",
      "state               \n",
      "NY        82946  555\n",
      "TX        94397  479\n",
      "PA        79389  458\n",
      "CA        56034  326\n",
      "OH        46159  321\n",
      "FL        42390  281\n",
      "IL        43004  248\n",
      "MI        45916  238\n",
      "AL        40774  215\n",
      "MN        31507  207\n",
      "VA        29052  198\n",
      "SC        28997  193\n",
      "MO        38212  191\n",
      "NE        23988  180\n",
      "WI        29205  163\n",
      "AR        30966  161\n",
      "MD        26036  157\n",
      "KS        22840  156\n",
      "KY        28320  155\n",
      "NC        30117  149\n",
      "OR        18448  149\n",
      "WV        25545  146\n",
      "GA        25917  146\n",
      "OK        26528  143\n",
      "IA        26843  142\n",
      "IN        27438  142\n",
      "TN        17414  140\n",
      "ME        16386  119\n",
      "NJ        24485  118\n",
      "MS        21073  115\n",
      "CO        13767  113\n",
      "WY        19212  110\n",
      "WA        18828   96\n",
      "LA        20874   91\n",
      "NM        16325   82\n",
      "SD        12250   74\n",
      "VT        11696   72\n",
      "MA        12307   69\n",
      "UT        10638   61\n",
      "NH         8219   59\n",
      "ND        14729   57\n",
      "NV         5560   47\n",
      "AZ        10733   37\n",
      "AK         2084   36\n",
      "MT        11722   32\n",
      "DC         3592   21\n",
      "CT         7686   16\n",
      "RI          535   15\n",
      "ID         5534   11\n",
      "DE            0    9\n",
      "HI         2552    7\n"
     ]
    }
   ],
   "source": [
    "# Group state by column is_fraud\n",
    "summary_state = df_cleaned.groupby('state')['is_fraud'].value_counts().unstack(fill_value=0)\n",
    "\n",
    "print(summary_state.sort_values(by=1, ascending=False))"
   ]
  },
  {
   "cell_type": "code",
   "execution_count": 29,
   "id": "de5d4a68",
   "metadata": {},
   "outputs": [
    {
     "name": "stdout",
     "output_type": "stream",
     "text": [
      "Total loss amount by state : $3,988,088.61\n",
      "Top 10 Loss amount by state : \n",
      "NY : $295,548.64\n",
      "TX : $265,806.41\n",
      "PA : $244,624.67\n",
      "CA : $170,943.92\n",
      "OH : $168,919.98\n",
      "FL : $150,913.03\n",
      "IL : $128,441.99\n",
      "MI : $121,012.08\n",
      "AL : $112,596.99\n",
      "MN : $112,454.39\n"
     ]
    }
   ],
   "source": [
    "# Group fraud state by amt\n",
    "fraud_by_state = fraud_trx.groupby('state')['amt'].sum()\n",
    "\n",
    "total_loss_state = fraud_by_state.sum()\n",
    "\n",
    "print(f\"Total loss amount by state : ${total_loss_state :,.2f}\")\n",
    "\n",
    "print(\"Top 10 Loss amount by state : \")\n",
    "for state, amt in fraud_by_state.sort_values(ascending=False).head(10).items():\n",
    "    print(f\"{state} : ${amt:,.2f}\")"
   ]
  },
  {
   "cell_type": "markdown",
   "id": "3edfff6c",
   "metadata": {},
   "source": [
    "### Ratio Fraud by Job"
   ]
  },
  {
   "cell_type": "code",
   "execution_count": 30,
   "id": "150f1ac6",
   "metadata": {},
   "outputs": [
    {
     "name": "stderr",
     "output_type": "stream",
     "text": [
      "C:\\Users\\DELL\\AppData\\Local\\Temp\\ipykernel_7592\\1132466834.py:5: FutureWarning: \n",
      "\n",
      "Passing `palette` without assigning `hue` is deprecated and will be removed in v0.14.0. Assign the `x` variable to `hue` and set `legend=False` for the same effect.\n",
      "\n",
      "  sns.barplot(\n"
     ]
    },
    {
     "data": {
      "image/png": "[encoded data removed]",
      "text/plain": [
       "<Figure size 640x480 with 1 Axes>"
      ]
     },
     "metadata": {},
     "output_type": "display_data"
    }
   ],
   "source": [
    "top_10_job = df_cleaned.groupby('job')['is_fraud'].mean().multiply(100).sort_values(ascending=False).head(10).reset_index()\n",
    "\n",
    "sns.set_style('whitegrid')\n",
    "plt.Figure(figsize=(8, 6))\n",
    "sns.barplot(\n",
    "    x='job',\n",
    "    y='is_fraud',\n",
    "    data=top_10_job,\n",
    "    palette='viridis'\n",
    ")\n",
    "plt.title('Ratio Fraud by Job')\n",
    "plt.xlabel('Job')\n",
    "plt.ylabel('Ratio')\n",
    "plt.xticks(rotation=45, ha='right')\n",
    "\n",
    "plt.show()"
   ]
  },
  {
   "cell_type": "markdown",
   "id": "95dad51f",
   "metadata": {},
   "source": [
    "### Distibution Fraud by Job "
   ]
  },
  {
   "cell_type": "code",
   "execution_count": 31,
   "id": "ff0ab081",
   "metadata": {},
   "outputs": [
    {
     "name": "stderr",
     "output_type": "stream",
     "text": [
      "C:\\Users\\DELL\\AppData\\Local\\Temp\\ipykernel_7592\\2465122494.py:203: SettingWithCopyWarning: \n",
      "A value is trying to be set on a copy of a slice from a DataFrame.\n",
      "Try using .loc[row_indexer,col_indexer] = value instead\n",
      "\n",
      "See the caveats in the documentation: https://pandas.pydata.org/pandas-docs/stable/user_guide/indexing.html#returning-a-view-versus-a-copy\n",
      "  fraud_trx['job_category'] = fraud_trx['job'].map(job_mapping).fillna('Others')\n"
     ]
    },
    {
     "data": {
      "application/vnd.microsoft.datawrangler.viewer.v0+json": {
       "columns": [
        {
         "name": "job_category",
         "rawType": "object",
         "type": "string"
        },
        {
         "name": "count",
         "rawType": "int64",
         "type": "integer"
        }
       ],
       "ref": "36c96919-7fbc-4dc4-b8f9-26ccf840a522",
       "rows": [
        [
         "Health & Medical",
         "239995"
        ],
        [
         "Finance & Business",
         "144354"
        ],
        [
         "Engineering & Technical",
         "141482"
        ],
        [
         "Education & Social Service",
         "109378"
        ],
        [
         "Law & Public Service",
         "101575"
        ],
        [
         "Media & Communication",
         "91300"
        ],
        [
         "Science & Research",
         "88687"
        ],
        [
         "Creative & Design",
         "86559"
        ],
        [
         "Administration & Management",
         "63421"
        ],
        [
         "Surveying",
         "54188"
        ],
        [
         "Technology & IT",
         "51228"
        ],
        [
         "Environmental & Agricultural",
         "45858"
        ],
        [
         "Arts & Entertainment",
         "39422"
        ],
        [
         "Others",
         "20700"
        ],
        [
         "Transportation & Logistics",
         "15913"
        ],
        [
         "Services & Hospitality",
         "1566"
        ],
        [
         "Restoration & Maintenance",
         "1049"
        ]
       ],
       "shape": {
        "columns": 1,
        "rows": 17
       }
      },
      "text/plain": [
       "job_category\n",
       "Health & Medical                239995\n",
       "Finance & Business              144354\n",
       "Engineering & Technical         141482\n",
       "Education & Social Service      109378\n",
       "Law & Public Service            101575\n",
       "Media & Communication            91300\n",
       "Science & Research               88687\n",
       "Creative & Design                86559\n",
       "Administration & Management      63421\n",
       "Surveying                        54188\n",
       "Technology & IT                  51228\n",
       "Environmental & Agricultural     45858\n",
       "Arts & Entertainment             39422\n",
       "Others                           20700\n",
       "Transportation & Logistics       15913\n",
       "Services & Hospitality            1566\n",
       "Restoration & Maintenance         1049\n",
       "Name: count, dtype: int64"
      ]
     },
     "execution_count": 31,
     "metadata": {},
     "output_type": "execute_result"
    }
   ],
   "source": [
    "# Def category jobs\n",
    "job_categories = {\n",
    "    'Health & Medical': [\n",
    "        'Psychologist, counselling', 'Dance movement psychotherapist', 'Pathologist',\n",
    "        'Radiographer, diagnostic', 'Therapist, occupational', 'Physiotherapist',\n",
    "        'Forensic psychologist', 'Optician, dispensing', 'Psychologist, forensic',\n",
    "        'Clinical biochemist', 'Paediatric nurse', 'Child psychotherapist',\n",
    "        'Paramedic', 'Educational psychologist', 'Audiological scientist',\n",
    "        'Scientist, audiological', 'Exercise physiologist', 'Surgeon',\n",
    "        'Therapist, horticultural', 'Health visitor', 'Medical secretary',\n",
    "        'Diagnostic radiographer', 'Therapist, sports', 'Medical physicist',\n",
    "        'Chiropodist', 'Counselling psychologist', 'Psychiatric nurse',\n",
    "        'Embryologist, clinical', 'Immunologist', 'Health physicist',\n",
    "        'Occupational psychologist', 'Doctor, hospital', 'Phytotherapist',\n",
    "        'Pharmacologist', 'Horticultural therapist', 'Toxicologist',\n",
    "        'Podiatrist', 'Mental health nurse', \"Nurse, children's\",\n",
    "        'Physiological scientist', 'Health and safety adviser', 'Community pharmacist',\n",
    "        'Clinical research associate', 'Art therapist', 'Optometrist',\n",
    "        'Psychotherapist', 'Pharmacist, community', 'Music therapist',\n",
    "        'Acupuncturist', 'Hospital doctor', 'Biochemist, clinical',\n",
    "        'General practice doctor', 'Occupational hygienist',\n",
    "        'Doctor, general practice', 'Occupational therapist', 'Neurosurgeon',\n",
    "        'Therapist, drama', 'Orthoptist', 'Therapist, music', 'Aid worker',\n",
    "        'Scientist, biomedical', 'Dispensing optician', 'Environmental health practitioner',\n",
    "        'Learning disability nurse', 'Nurse, mental health', 'Pharmacist, hospital',\n",
    "        'Health promotion specialist', 'Psychiatrist', 'Radiographer, therapeutic',\n",
    "        'Herbalist', 'Osteopath', 'Hospital pharmacist', 'Nutritional therapist',\n",
    "        'Psychologist, clinical', 'Research scientist (medical)', 'Oncologist',\n",
    "        'Veterinary surgeon', 'Clinical cytogeneticist', 'Homeopath', 'Cytogeneticist',\n",
    "        'Ambulance person', 'Medical technical officer', 'Sport and exercise psychologist',\n",
    "        'Counsellor', 'Psychotherapist, child', 'Learning disability nurse',\n",
    "        'Clinical psychologist', 'Scientist, clinical (histocompatibility and im...)', 'Biomedical scientist',\n",
    "        'Scientist, research (medical)', 'Therapist, art'\n",
    "    ],\n",
    "    'Technology & IT': [\n",
    "        'Systems developer', 'IT trainer', 'Systems analyst', 'Network engineer',\n",
    "        'Applications developer', 'Programmer, multimedia', 'Multimedia programmer',\n",
    "        'Database administrator', 'Telecommunications researcher', 'Sales professional, IT',\n",
    "        'IT consultant', 'Web designer', 'Information systems manager',\n",
    "        'Manufacturing systems engineer', 'Communications engineer', 'Data scientist'\n",
    "    ],\n",
    "    'Engineering & Technical': [\n",
    "        'Engineer, land', 'Naval architect', 'Energy engineer', 'Engineer, mining',\n",
    "        'Electrical engineer', 'Engineer, technical sales', 'Engineer, electronics',\n",
    "        'Water engineer', 'Engineer, broadcasting (operations)', 'Engineer, biomedical',\n",
    "        'Mining engineer', 'Engineer, communications', 'Materials engineer',\n",
    "        'Engineer, structural', 'Structural engineer', 'Mechanical engineer',\n",
    "        'Electronics engineer', 'Engineer, building services', 'Building services engineer',\n",
    "        'Engineer, maintenance', 'Engineer, production', 'Manufacturing engineer',\n",
    "        'Production engineer', 'Engineer, manufacturing', 'Engineer, drilling',\n",
    "        'Engineer, petroleum', 'Petroleum engineer', 'Control and instrumentation engineer',\n",
    "        'Engineer, control and instrumentation', 'Engineer, automotive', 'Civil engineer, contracting',\n",
    "        'Engineer, agricultural', 'Biomedical engineer', 'Aeronautical engineer',\n",
    "        'Engineer, aeronautical', 'Engineer, civil (consulting)', 'Engineer, materials',\n",
    "        'Engineer, site', 'Contracting civil engineer', 'Site engineer', 'Technical brewer', 'Contractor',\n",
    "        'Chemical engineer', 'Consulting civil engineer', 'Maintenance engineer',\n",
    "        'Drilling engineer'\n",
    "    ],\n",
    "    'Science & Research': [\n",
    "        'Geochemist', 'Scientist, research (maths)', 'Product/process development scientist',\n",
    "        'Research scientist (physical sciences)', 'Operations geologist', 'Engineering geologist',\n",
    "        'Scientist, physiological', 'Statistician', 'Wellsite geologist', 'Mudlogger',\n",
    "        'Plant breeder/geneticist', 'Field seismologist', 'Metallurgist', 'Oceanographer',\n",
    "        'Colour technologist', 'Geoscientist', 'Hydrogeologist', 'Soil scientist',\n",
    "        'Water quality scientist', 'Research scientist (life sciences)', 'Herpetologist',\n",
    "        'Geophysicist/field seismologist', 'Geneticist, molecular', 'Geologist, wellsite',\n",
    "        'Seismic interpreter', 'Ecologist', 'Chemist, analytical', 'Analytical chemist',\n",
    "        'Animal nutritionist', 'Archaeologist', 'Teaching laboratory technician', 'Scientific laboratory technician',\n",
    "        'Animal technologist', 'Scientist, marine', 'Physicist, medical', 'Geologist, engineering'\n",
    "    ],\n",
    "    'Creative & Design': [\n",
    "        'Designer, multimedia', 'Designer, furniture', 'Designer, jewellery',\n",
    "        'Product designer', 'Exhibition designer', 'Designer, ceramics/pottery', 'Designer, interior/spatial',\n",
    "        'Ceramics designer', 'Designer, textile', 'Glass blower/designer',\n",
    "        'Set designer', 'Textile designer', 'Illustrator', 'Clothing/textile technologist',\n",
    "        'Garment/textile technologist', 'Architect', 'Landscape architect',\n",
    "        'Industrial/product designer', 'Architectural technologist', 'Interior and spatial designer',\n",
    "        'Designer, exhibition/display', 'Copywriter, advertising', 'Special effects artist',\n",
    "        'Animator', 'Fine artist', 'Artist', 'Video editor', 'Film/video editor',\n",
    "        'Jewellery designer', 'Designer, industrial/product', 'Furniture designer'\n",
    "    ],\n",
    "    'Finance & Business': [\n",
    "        'Corporate investment banker', 'Financial adviser', 'Financial trader',\n",
    "        'Accounting technician', 'Pensions consultant', 'Investment analyst', 'Futures trader',\n",
    "        'Chief Financial Officer', 'Retail banker', 'Insurance underwriter', 'Risk analyst',\n",
    "        'Logistics and distribution manager', 'Accountant, chartered public finance', 'Comptroller',\n",
    "        'Accountant, chartered certified', 'Chartered public finance accountant', 'Chief Executive Officer',\n",
    "        'Chief Technology Officer', 'Chief Strategy Officer', 'Chief Operating Officer',\n",
    "        'Chief of Staff', 'Chartered accountant', 'Investment banker, corporate',\n",
    "        'Investment banker, operational', 'Company secretary', 'Management consultant',\n",
    "        'Production manager', 'Equities trader', 'Pension scheme manager',\n",
    "        'Senior tax professional/tax inspector', 'Tax inspector', 'Tax adviser',\n",
    "        'Dealer', 'Economist', 'Purchasing manager', 'Merchandiser, retail',\n",
    "        'Retail merchandiser', 'Industrial buyer', 'Buyer, industrial', 'Retail buyer',\n",
    "        'Buyer, retail', 'Advertising account executive', 'Advertising account planner',\n",
    "        'Insurance broker', 'Sales executive', 'Insurance claims handler', 'Sales promotion account executive',\n",
    "        'Bookseller', 'Retail manager', 'Medical sales representative', 'Visual merchandiser',\n",
    "        'Regulatory affairs officer', 'Marketing executive'\n",
    "    ],\n",
    "    'Law & Public Service': [\n",
    "        'Patent attorney', 'Probation officer', 'Police officer', 'Trading standards officer',\n",
    "        'Solicitor, Scotland', 'Claims inspector/assessor', 'Administrator, charities/voluntary organisations',\n",
    "        'Historic buildings inspector/conservation officer', 'Administrator, local government',\n",
    "        'Barrister', 'Civil Service fast streamer', 'Chartered legal executive (England and Wales)',\n",
    "        'Chartered loss adjuster', 'Loss adjuster, chartered', 'Immigration officer',\n",
    "        \"Barrister's clerk\", 'Prison officer', \"Politician's assistant\",\n",
    "        'Charity officer', 'Lawyer', 'Licensed conveyancer', 'Emergency planning/management officer',\n",
    "        'Charity fundraiser', 'Trade mark attorney', 'Legal secretary', 'Local government officer',\n",
    "        'Civil Service administrator', 'Race relations officer', 'Equality and diversity officer',\n",
    "        'Armed forces training and education officer', 'Armed forces logistics/support/administrative officer',\n",
    "        'Armed forces technical officer', 'Warden/ranger', 'Firefighter', 'Public affairs consultant',\n",
    "        'Research officer, trade union', 'Research officer, political party'\n",
    "    ],\n",
    "    'Media & Communication': [\n",
    "        'Programme researcher, broadcasting/film/video', 'Science writer', 'Journalist, newspaper',\n",
    "        'Editor, film/video', 'Camera operator', 'Copywriter, advertising', 'Radio producer',\n",
    "        'Writer', 'Broadcast presenter', 'Producer, radio', 'Television production assistant',\n",
    "        'Television floor manager', 'Copy', 'Press sub', 'Broadcast journalist',\n",
    "        'Editor, magazine features', 'Magazine features editor', 'Press photographer',\n",
    "        'Public relations officer', 'Producer, television/film/video', 'Magazine journalist',\n",
    "        'Media buyer', 'Public relations account executive', 'Media planner',\n",
    "        'Television camera operator', 'Advertising copywriter', 'Presenter, broadcasting',\n",
    "        'Commissioning editor', 'Location manager', 'Radio broadcast assistant', 'Interpreter',\n",
    "        'Television/film/video producer', 'Production assistant, radio', 'Production assistant, television',\n",
    "        'Editor, commissioning'\n",
    "    ],\n",
    "    'Education & Social Service': [\n",
    "        'Special educational needs teacher', 'Education officer, museum', 'Education officer, community',\n",
    "        'Higher education careers adviser', 'English as a second language teacher', 'English as a foreign language teacher',\n",
    "        'Teacher, English as a foreign language', 'Teacher, early years/pre', 'Primary school teacher',\n",
    "        'Secondary school teacher', 'Teacher, secondary school', 'Teacher, special educational needs',\n",
    "        'Early years teacher', 'Lecturer, further education', 'Teacher, primary school',\n",
    "        'Professor Emeritus', 'Associate Professor', 'Lecturer, higher education',\n",
    "        'Teacher, adult education', 'TEFL teacher', 'Social researcher',\n",
    "        'Careers adviser', 'Community education officer', 'Community development worker',\n",
    "        'Development worker, community', 'Development worker, international aid',\n",
    "        'Learning mentor', 'Museum education officer', 'Curator', 'Archivist', 'Librarian, academic',\n",
    "        'Librarian, public', 'Social research officer, government', 'Careers information officer',\n",
    "        'Administrator, education', 'Conservation officer, historic buildings', 'Conservator, museum/gallery', 'Conservator, furniture',\n",
    "        'Art gallery manager', 'Exhibitions officer, museum/gallery', 'Museum/gallery exhibitions officer',\n",
    "        'Further education lecturer', 'Heritage manager', 'Advice worker',\n",
    "        'Education administrator'\n",
    "    ],\n",
    "    'Environmental & Agricultural': [\n",
    "        'Nature conservation officer', 'Arboriculturist', 'Amenity horticulturist',\n",
    "        'Waste management officer', 'Environmental consultant', 'Hydrologist',\n",
    "        'Minerals surveyor', 'Fisheries officer', 'Horticultural consultant',\n",
    "        'Environmental manager', 'Energy manager', 'Field trials officer', 'Ecologist',\n",
    "        'Horticulturist, commercial', 'Forest/woodland manager', 'Tree surgeon', 'Land',\n",
    "        'Agricultural consultant', 'Commercial horticulturist'\n",
    "    ],\n",
    "    'Administration & Management': [\n",
    "        'Event organiser', 'Operational researcher', 'Market researcher',\n",
    "        'Human resources officer', 'Administrator', 'Health service manager', 'Training and development officer',\n",
    "        'Volunteer coordinator', 'Records manager', 'Secretary/administrator', 'Catering manager', 'Information officer',\n",
    "        'Personnel officer', 'Intelligence analyst', 'Warehouse manager', 'Facilities manager', 'Public house manager',\n",
    "        'Tourist information centre manager', 'Leisure centre manager', 'Travel agency manager',\n",
    "        'Hotel manager', 'Fitness centre manager', 'Farm manager', 'Sports development officer', 'Sports administrator',\n",
    "        'Outdoor activities/education manager', 'Theme park manager', 'Quarry manager', 'Estate manager/land agent',\n",
    "        'Call centre manager', 'Tourism officer', 'Visual merchandiser', 'Product manager',\n",
    "        'Administrator, arts'\n",
    "    ],\n",
    "    'Transportation & Logistics': [\n",
    "        'Transport planner', 'Air broker', 'Pilot, airline',\n",
    "        'Air cabin crew', 'Airline pilot', 'Air traffic controller', 'Ship broker',\n",
    "        'Freight forwarder', 'Logistics and distribution manager', 'Tour manager', 'Cabin crew'\n",
    "    ],\n",
    "    'Surveying': [\n",
    "        'Surveyor, minerals', 'Land/geomatics surveyor', 'Building control surveyor',\n",
    "        'Commercial/residential surveyor', 'Surveyor, mining', 'Quantity surveyor',\n",
    "        'Surveyor, rural practice', 'Rural practice surveyor', 'Surveyor, land/geomatics',\n",
    "        'Hydrographic surveyor', 'Planning and development surveyor', 'Insurance risk surveyor',\n",
    "        'Cartographer', 'Town planner', 'Building surveyor'\n",
    "    ],\n",
    "    'Arts & Entertainment': [\n",
    "        'Dancer', 'Musician', 'Private music teacher', 'Music tutor',\n",
    "        'Community arts worker', 'Arts development officer', 'Theatre director',\n",
    "        'Stage manager', 'Gaffer', 'Make', 'Sub', 'Lexicographer'\n",
    "    ],\n",
    "    'Restoration & Maintenance': [\n",
    "        'Furniture conservator/restorer'\n",
    "    ],\n",
    "    'Services & Hospitality': [\n",
    "        'Barista'\n",
    "    ],\n",
    "    'Others': [\n",
    "        'Homemaker'\n",
    "    ]\n",
    "}\n",
    "\n",
    "# Initialize the mapping dictionary\n",
    "job_mapping = {}\n",
    "\n",
    "# Populate the mapping dictionary with jobs based on their categories\n",
    "for category, jobs in job_categories.items():\n",
    "    for job in jobs:\n",
    "        job_mapping[job] = category\n",
    "\n",
    "# Apply the mapping to the df_cleaned DataFrame. Use `fillna` to handle any unmapped jobs (if any)\n",
    "df_cleaned['job_category'] = df_cleaned['job'].map(job_mapping).fillna('Others')\n",
    "\n",
    "# Apply the mapping to the fraud_trx. Use `fillna` to handle any unmapped jobs (if any)\n",
    "fraud_trx['job_category'] = fraud_trx['job'].map(job_mapping).fillna('Others')\n",
    "\n",
    "df_cleaned['job_category'].value_counts()\n"
   ]
  },
  {
   "cell_type": "code",
   "execution_count": 32,
   "id": "44fc83a0",
   "metadata": {},
   "outputs": [
    {
     "name": "stdout",
     "output_type": "stream",
     "text": [
      "is_fraud                           0     1\n",
      "job_category                              \n",
      "Health & Medical              238645  1350\n",
      "Finance & Business            143545   809\n",
      "Engineering & Technical       140765   717\n",
      "Education & Social Service    108676   702\n",
      "Law & Public Service          100876   699\n",
      "Science & Research             88177   510\n",
      "Media & Communication          90795   505\n",
      "Creative & Design              86102   457\n",
      "Administration & Management    63036   385\n",
      "Surveying                      53885   303\n",
      "Technology & IT                50931   297\n",
      "Environmental & Agricultural   45623   235\n",
      "Arts & Entertainment           39219   203\n",
      "Others                         20522   178\n",
      "Transportation & Logistics     15766   147\n",
      "Services & Hospitality          1557     9\n",
      "Restoration & Maintenance       1049     0\n"
     ]
    }
   ],
   "source": [
    "# Distibution Fraud by Job category\n",
    "summary_job_category = df_cleaned.groupby('job_category')['is_fraud'].value_counts().unstack(fill_value=0)\n",
    "\n",
    "print(summary_job_category.sort_values(by=1, ascending=False))\n"
   ]
  },
  {
   "cell_type": "code",
   "execution_count": 33,
   "id": "d7abed55",
   "metadata": {},
   "outputs": [
    {
     "name": "stdout",
     "output_type": "stream",
     "text": [
      "Total loss amount : $3,988,088.61\n",
      "Top 10 Loss amount by jobs category : \n",
      "Health & Medical: $711,435.27\n",
      "Finance & Business: $440,733.49\n",
      "Engineering & Technical: $387,852.52\n",
      "Law & Public Service: $369,678.72\n",
      "Education & Social Service: $366,878.62\n",
      "Science & Research: $271,473.18\n",
      "Media & Communication: $268,154.66\n",
      "Creative & Design: $248,286.57\n",
      "Administration & Management: $192,608.40\n",
      "Surveying: $165,162.18\n"
     ]
    }
   ],
   "source": [
    "# Group fraud jobs by amt\n",
    "fraud_by_jobs = fraud_trx.groupby('job_category')['amt'].sum()\n",
    "\n",
    "total_loss_amount_jobs = fraud_by_jobs.sum()\n",
    "\n",
    "print(f\"Total loss amount : ${total_loss_amount_jobs:,.2f}\")\n",
    "\n",
    "print(\"Top 10 Loss amount by jobs category : \")\n",
    "for job_category, amt in fraud_by_jobs.sort_values(ascending=False).head(10).items():\n",
    "    print(f\"{job_category}: ${amt:,.2f}\")"
   ]
  },
  {
   "cell_type": "markdown",
   "id": "dc290a47",
   "metadata": {},
   "source": [
    "### Ratio Fraud by time"
   ]
  },
  {
   "cell_type": "code",
   "execution_count": 34,
   "id": "67a35153",
   "metadata": {},
   "outputs": [
    {
     "name": "stdout",
     "output_type": "stream",
     "text": [
      "    hour  is_fraud\n",
      "0      0  0.014940\n",
      "1      1  0.015349\n",
      "2      2  0.014652\n",
      "3      3  0.014239\n",
      "4      4  0.001099\n",
      "5      5  0.001423\n",
      "6      6  0.000946\n",
      "7      7  0.001327\n",
      "8      8  0.001153\n",
      "9      9  0.001114\n",
      "10    10  0.000946\n",
      "11    11  0.000998\n",
      "12    12  0.001027\n",
      "13    13  0.001225\n",
      "14    14  0.001325\n",
      "15    15  0.001208\n",
      "16    16  0.001156\n",
      "17    17  0.001192\n",
      "18    18  0.001226\n",
      "19    19  0.001236\n",
      "20    20  0.000952\n",
      "21    21  0.001129\n",
      "22    22  0.028829\n",
      "23    23  0.028374\n",
      "         day  is_fraud\n",
      "0     Friday  0.007086\n",
      "1     Monday  0.004648\n",
      "2   Saturday  0.006106\n",
      "3     Sunday  0.004853\n",
      "4   Thursday  0.006844\n",
      "5    Tuesday  0.005835\n",
      "6  Wednesday  0.006554\n",
      "        month  is_fraud\n",
      "0       April  0.005023\n",
      "1      August  0.004373\n",
      "2    December  0.004197\n",
      "3    February  0.008735\n",
      "4     January  0.008107\n",
      "5        July  0.003822\n",
      "6        June  0.004784\n",
      "7       March  0.006523\n",
      "8         May  0.006366\n",
      "9    November  0.005510\n",
      "10    October  0.006603\n",
      "11  September  0.005916\n"
     ]
    }
   ],
   "source": [
    "# List of time column\n",
    "time_columns = ['hour', 'day', 'month', 'year']\n",
    "\n",
    "def calculate_fraud_rates(df_cleaned, columns_to_analyze):\n",
    "    fraud_rates_by_time = {}\n",
    "    for col in columns_to_analyze:\n",
    "        rate = df_cleaned.groupby(col)['is_fraud'].mean().reset_index()\n",
    "        fraud_rates_by_time[col] = rate\n",
    "    \n",
    "    return fraud_rates_by_time\n",
    "\n",
    "value_calculate = calculate_fraud_rates(df_cleaned, time_columns)\n",
    "\n",
    "print(value_calculate['hour'])\n",
    "print(value_calculate['day'])\n",
    "print(value_calculate['month'])"
   ]
  },
  {
   "cell_type": "markdown",
   "id": "2995afbe",
   "metadata": {},
   "source": [
    "### Distribution fraud by time"
   ]
  },
  {
   "cell_type": "code",
   "execution_count": 35,
   "id": "331ac358",
   "metadata": {},
   "outputs": [
    {
     "name": "stdout",
     "output_type": "stream",
     "text": [
      "is_fraud  hour        day      month  year    0   1\n",
      "0            0     Friday      April  2019  223   7\n",
      "1            0     Friday      April  2020  229   5\n",
      "2            0     Friday     August  2019  391   3\n",
      "3            0     Friday   December  2019  457   9\n",
      "4            0     Friday   February  2019  166   5\n",
      "...        ...        ...        ...   ...  ...  ..\n",
      "3019        23  Wednesday        May  2019  426  12\n",
      "3020        23  Wednesday        May  2020  309  15\n",
      "3021        23  Wednesday   November  2019  306  13\n",
      "3022        23  Wednesday    October  2019  410  16\n",
      "3023        23  Wednesday  September  2019  377  19\n",
      "\n",
      "[3024 rows x 6 columns]\n"
     ]
    }
   ],
   "source": [
    "# Distibution Fraud by time\n",
    "summary_time = df_cleaned.groupby(time_columns)['is_fraud'].value_counts().unstack(fill_value=0).reset_index()\n",
    "\n",
    "print(summary_time)"
   ]
  },
  {
   "cell_type": "markdown",
   "id": "40f675ca",
   "metadata": {},
   "source": [
    "#### By hour"
   ]
  },
  {
   "cell_type": "code",
   "execution_count": 36,
   "id": "1cdc52a1",
   "metadata": {},
   "outputs": [
    {
     "name": "stdout",
     "output_type": "stream",
     "text": [
      "Total loss amount fraud : $3,988,088.61\n",
      "Loss amount by hour : \n",
      "0 : $218,345.21\n",
      "1 : $230,736.79\n",
      "2 : $222,377.08\n",
      "3 : $211,153.52\n",
      "4 : $14,920.27\n",
      "5 : $18,739.17\n",
      "6 : $12,626.73\n",
      "7 : $20,314.37\n",
      "8 : $16,400.34\n",
      "9 : $12,961.10\n",
      "10 : $16,397.40\n",
      "11 : $15,265.87\n",
      "12 : $42,313.67\n",
      "13 : $47,843.40\n",
      "14 : $61,338.04\n",
      "15 : $48,567.33\n",
      "16 : $47,250.76\n",
      "17 : $48,976.42\n",
      "18 : $50,594.97\n",
      "19 : $52,445.53\n",
      "20 : $44,910.50\n",
      "21 : $49,273.69\n",
      "22 : $1,274,662.84\n",
      "23 : $1,209,673.61\n"
     ]
    }
   ],
   "source": [
    "# Group fraud hour by amt\n",
    "fraud_by_hour = fraud_trx.groupby('hour')['amt'].sum()\n",
    "\n",
    "total_loss_amount_hour = fraud_by_hour.sum()\n",
    "\n",
    "print(f\"Total loss amount fraud : ${total_loss_amount_hour:,.2f}\")\n",
    "print(f\"Loss amount by hour : \")\n",
    "for hour, amt in fraud_by_hour.items():\n",
    "    print(f\"{hour} : ${amt:,.2f}\")"
   ]
  },
  {
   "cell_type": "markdown",
   "id": "24f351ef",
   "metadata": {},
   "source": [
    "#### By day"
   ]
  },
  {
   "cell_type": "code",
   "execution_count": 37,
   "id": "64690b35",
   "metadata": {},
   "outputs": [
    {
     "name": "stdout",
     "output_type": "stream",
     "text": [
      "Total loss amount : $3,988,088.61\n",
      "Loss amount by day :\n",
      "Monday : $ 610,146.66\n",
      "Tuesday : $ 501,650.80\n",
      "Wednesday : $ 449,581.26\n",
      "Thursday : $ 544,490.00\n",
      "Friday : $ 581,816.53\n",
      "Saturday : $ 636,539.35\n",
      "Sunday : $ 663,864.01\n"
     ]
    }
   ],
   "source": [
    "# Group fraud day by amt\n",
    "fraud_by_day = fraud_trx.groupby('day')['amt'].sum()\n",
    "\n",
    "total_loss_amount_day = fraud_by_day.sum()\n",
    "\n",
    "# Ordered day\n",
    "ordered_day = ['Monday', 'Tuesday', 'Wednesday', 'Thursday', 'Friday', 'Saturday', 'Sunday']\n",
    "\n",
    "# Apply new ordered day\n",
    "fraud_by_day_ordered = fraud_by_day.reindex(ordered_day)\n",
    "\n",
    "print(f\"Total loss amount : ${total_loss_amount_day:,.2f}\")\n",
    "\n",
    "print(\"Loss amount by day :\")\n",
    "for day, amt in fraud_by_day_ordered.items():\n",
    "    print(f\"{day} : $ {amt:,.2f}\")"
   ]
  },
  {
   "cell_type": "markdown",
   "id": "0298838e",
   "metadata": {},
   "source": [
    "#### By month"
   ]
  },
  {
   "cell_type": "code",
   "execution_count": 38,
   "id": "1202e0b3",
   "metadata": {},
   "outputs": [
    {
     "name": "stdout",
     "output_type": "stream",
     "text": [
      "Total loss amount : $ 3,988,088.61\n",
      "Loss amount by month :\n",
      "January : $ 444,375.74\n",
      "February : $ 458,001.19\n",
      "March : $ 471,727.69\n",
      "April : $ 354,241.27\n",
      "May : $ 497,775.49\n",
      "June : $ 358,434.41\n",
      "July : $ 188,701.59\n",
      "August : $ 203,951.13\n",
      "September : $ 217,675.37\n",
      "October : $ 257,739.72\n",
      "November : $ 200,307.47\n",
      "December : $ 335,157.54\n"
     ]
    }
   ],
   "source": [
    "# Group fraud month by amt\n",
    "fraud_by_month = fraud_trx.groupby('month')['amt'].sum()\n",
    "\n",
    "total_loss_amount_month = fraud_by_month.sum()\n",
    "\n",
    "# Ordered month\n",
    "ordered_month = ['January', 'February', 'March', 'April', 'May', 'June', 'July','August', 'September', 'October', 'November', 'December']\n",
    "\n",
    "# Apply new ordered month\n",
    "fraud_by_month_ordered = fraud_by_month.reindex(ordered_month)\n",
    "\n",
    "print(f\"Total loss amount : $ {total_loss_amount_month:,.2f}\")\n",
    "\n",
    "print(\"Loss amount by month :\")\n",
    "for month, amt in fraud_by_month_ordered.items():\n",
    "    print(f\"{month} : $ {amt:,.2f}\")"
   ]
  },
  {
   "cell_type": "markdown",
   "id": "44534265",
   "metadata": {},
   "source": [
    "#### By year"
   ]
  },
  {
   "cell_type": "code",
   "execution_count": 39,
   "id": "c55e95e8",
   "metadata": {},
   "outputs": [
    {
     "name": "stdout",
     "output_type": "stream",
     "text": [
      "Total loss amount : $ 3,988,088.61\n",
      "Loss amount by year : \n",
      "2019 : $ 2,767,822.87\n",
      "2020 : $ 1,220,265.74\n"
     ]
    }
   ],
   "source": [
    "# Group fraud year by amt\n",
    "fraud_by_year = fraud_trx.groupby('year')['amt'].sum()\n",
    "\n",
    "total_loss_amount_year = fraud_by_year.sum()\n",
    "\n",
    "print(f\"Total loss amount : $ {total_loss_amount_year:,.2f}\")\n",
    "\n",
    "print(\"Loss amount by year : \")\n",
    "for year, amt in fraud_by_year.items():\n",
    "    print(f\"{year} : $ {amt:,.2f}\")"
   ]
  },
  {
   "cell_type": "markdown",
   "id": "4c61f26a",
   "metadata": {},
   "source": [
    "### Ratio Fraud by Age"
   ]
  },
  {
   "cell_type": "code",
   "execution_count": 40,
   "id": "dc609375",
   "metadata": {},
   "outputs": [
    {
     "name": "stderr",
     "output_type": "stream",
     "text": [
      "C:\\Users\\DELL\\AppData\\Local\\Temp\\ipykernel_7592\\2970460045.py:9: FutureWarning: The default of observed=False is deprecated and will be changed to True in a future version of pandas. Pass observed=False to retain current behavior or observed=True to adopt the future default and silence this warning.\n",
      "  age_grouped = df_cleaned.groupby('age_group')['is_fraud'].mean().multiply(100).reset_index()\n",
      "C:\\Users\\DELL\\AppData\\Local\\Temp\\ipykernel_7592\\2970460045.py:14: FutureWarning: \n",
      "\n",
      "Passing `palette` without assigning `hue` is deprecated and will be removed in v0.14.0. Assign the `x` variable to `hue` and set `legend=False` for the same effect.\n",
      "\n",
      "  sns.barplot(\n"
     ]
    },
    {
     "data": {
      "image/png": "[encoded data removed]",
      "text/plain": [
       "<Figure size 640x480 with 1 Axes>"
      ]
     },
     "metadata": {},
     "output_type": "display_data"
    }
   ],
   "source": [
    "# Define age bins and labels\n",
    "bins = [10, 20, 30, 40, 50, 60, 70, 80, 90, 100]\n",
    "labels = ['10-19', '20-29', '30-39', '40-49', '50-59', '60-69', '70-79', '80-89', '90+']\n",
    "\n",
    "# Create new age group column\n",
    "df_cleaned['age_group'] = pd.cut(df_cleaned['age'], bins=bins, labels=labels, right=False)\n",
    "\n",
    "# Group by age group and calculate ratio fraud\n",
    "age_grouped = df_cleaned.groupby('age_group')['is_fraud'].mean().multiply(100).reset_index()\n",
    "\n",
    "# Set bar plot\n",
    "sns.set_style('whitegrid')\n",
    "plt.Figure(figsize=(8, 6))\n",
    "sns.barplot(\n",
    "    x = 'age_group',\n",
    "    y = 'is_fraud',\n",
    "    data = age_grouped,\n",
    "    palette= 'viridis'\n",
    ")\n",
    "\n",
    "plt.title('Ratio Fraud by Age')\n",
    "plt.xlabel('Age')\n",
    "plt.ylabel('Ratio')\n",
    "\n",
    "plt.show()"
   ]
  },
  {
   "cell_type": "markdown",
   "id": "aebaa8ea",
   "metadata": {},
   "source": [
    "### Distribution fraud by age"
   ]
  },
  {
   "cell_type": "code",
   "execution_count": 41,
   "id": "b96fa2df",
   "metadata": {},
   "outputs": [
    {
     "name": "stdout",
     "output_type": "stream",
     "text": [
      "is_fraud        0     1\n",
      "age_group              \n",
      "50-59      189888  1425\n",
      "40-49      300155  1393\n",
      "30-39      295368  1290\n",
      "20-29      201743  1202\n",
      "60-69      136029   856\n",
      "70-79       74070   595\n",
      "80-89       44059   409\n",
      "90+         22483   176\n",
      "10-19       25374   160\n"
     ]
    },
    {
     "name": "stderr",
     "output_type": "stream",
     "text": [
      "C:\\Users\\DELL\\AppData\\Local\\Temp\\ipykernel_7592\\3750012441.py:2: FutureWarning: The default of observed=False is deprecated and will be changed to True in a future version of pandas. Pass observed=False to retain current behavior or observed=True to adopt the future default and silence this warning.\n",
      "  summary_age_group = df_cleaned.groupby('age_group')['is_fraud'].value_counts().unstack(fill_value=0)\n"
     ]
    }
   ],
   "source": [
    "# Group age group by column is_fraud\n",
    "summary_age_group = df_cleaned.groupby('age_group')['is_fraud'].value_counts().unstack(fill_value=0)\n",
    "\n",
    "print(summary_age_group.sort_values(by=1, ascending=False))"
   ]
  },
  {
   "cell_type": "code",
   "execution_count": 42,
   "id": "25736ea1",
   "metadata": {},
   "outputs": [
    {
     "name": "stdout",
     "output_type": "stream",
     "text": [
      "Total loss amount age group : $3,988,088.61\n",
      "Loss amount by age group :\n",
      "10-19 : $97,902.74\n",
      "20-29 : $631,492.09\n",
      "30-39 : $650,532.75\n",
      "40-49 : $646,964.81\n",
      "50-59 : $800,084.84\n",
      "60-69 : $496,806.69\n",
      "70-79 : $350,564.55\n",
      "80-89 : $215,593.30\n",
      "90+ : $98,146.84\n"
     ]
    },
    {
     "name": "stderr",
     "output_type": "stream",
     "text": [
      "C:\\Users\\DELL\\AppData\\Local\\Temp\\ipykernel_7592\\3745936371.py:2: SettingWithCopyWarning: \n",
      "A value is trying to be set on a copy of a slice from a DataFrame.\n",
      "Try using .loc[row_indexer,col_indexer] = value instead\n",
      "\n",
      "See the caveats in the documentation: https://pandas.pydata.org/pandas-docs/stable/user_guide/indexing.html#returning-a-view-versus-a-copy\n",
      "  fraud_trx['age_group'] = pd.cut(\n",
      "C:\\Users\\DELL\\AppData\\Local\\Temp\\ipykernel_7592\\3745936371.py:10: FutureWarning: The default of observed=False is deprecated and will be changed to True in a future version of pandas. Pass observed=False to retain current behavior or observed=True to adopt the future default and silence this warning.\n",
      "  fraud_by_age_group = fraud_trx.groupby('age_group')['amt'].sum()\n"
     ]
    }
   ],
   "source": [
    "# Apply age_group to fraud_trx\n",
    "fraud_trx['age_group'] = pd.cut(\n",
    "    fraud_trx['age'],\n",
    "    bins=bins,\n",
    "    labels=labels,\n",
    "    right=False\n",
    ")\n",
    "\n",
    "# Group fraud age group by amt\n",
    "fraud_by_age_group = fraud_trx.groupby('age_group')['amt'].sum()\n",
    "\n",
    "total_loss_amount_age_group = fraud_by_age_group.sum()\n",
    "\n",
    "print(f\"Total loss amount age group : ${total_loss_amount_age_group:,.2f}\")\n",
    "print(\"Loss amount by age group :\")\n",
    "for age_group, amt in fraud_by_age_group.items():\n",
    "    print(f\"{age_group} : ${amt:,.2f}\")"
   ]
  },
  {
   "cell_type": "code",
   "execution_count": 43,
   "id": "97baf3a8",
   "metadata": {},
   "outputs": [],
   "source": [
    "# Save file to CSV\n",
    "\n",
    "df_cleaned.to_csv(\"Fraud.csv\", index=False)"
   ]
  }
 ],
 "metadata": {
  "kernelspec": {
   "display_name": "Python 3",
   "language": "python",
   "name": "python3"
  },
  "language_info": {
   "codemirror_mode": {
    "name": "ipython",
    "version": 3
   },
   "file_extension": ".py",
   "mimetype": "text/x-python",
   "name": "python",
   "nbconvert_exporter": "python",
   "pygments_lexer": "ipython3",
   "version": "3.12.1"
  }
 },
 "nbformat": 4,
 "nbformat_minor": 5
}
